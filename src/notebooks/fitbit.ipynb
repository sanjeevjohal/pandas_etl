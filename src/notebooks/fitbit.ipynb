{
 "cells": [
  {
   "cell_type": "code",
   "execution_count": 387,
   "id": "initial_id",
   "metadata": {
    "ExecuteTime": {
     "end_time": "2024-04-19T15:25:33.336217Z",
     "start_time": "2024-04-19T15:25:33.334572Z"
    }
   },
   "outputs": [],
   "source": [
    "import os.path\n",
    "import pandas as pd\n",
    "import numpy as np\n",
    "import timeit"
   ]
  },
  {
   "cell_type": "code",
   "execution_count": 388,
   "id": "ed198b3d7455394e",
   "metadata": {
    "collapsed": false,
    "ExecuteTime": {
     "end_time": "2024-04-19T15:25:33.644613Z",
     "start_time": "2024-04-19T15:25:33.642688Z"
    }
   },
   "outputs": [],
   "source": [
    "import sys\n",
    "# sys.path.append('/Users/sjohal/OneDrive/PycharmProjects/cafeday/bjss')\n",
    "\n",
    "from data import input_data_dir, output_data_dir"
   ]
  },
  {
   "cell_type": "markdown",
   "id": "ec36b66382c14ebf",
   "metadata": {
    "collapsed": false
   },
   "source": [
    "# Helper functions"
   ]
  },
  {
   "cell_type": "code",
   "execution_count": 389,
   "id": "f6476a84-47c4-4e1c-8bc4-4594e4ee5731",
   "metadata": {
    "collapsed": false,
    "ExecuteTime": {
     "end_time": "2024-04-19T15:25:33.705822Z",
     "start_time": "2024-04-19T15:25:33.702780Z"
    }
   },
   "outputs": [],
   "source": [
    "# timer decorator\n",
    "import time\n",
    "\n",
    "\n",
    "def _timeit(func):  # decorator function\n",
    "    def wrapper(*args, **kwargs):  # wrapper function\n",
    "        start = time.time()\n",
    "        result = func(*args, **kwargs)  # call the function\n",
    "        end = time.time()\n",
    "        duration = round(end - start, 2)\n",
    "        print(f'{duration} seconds')\n",
    "        return result  # return the result of the function\n",
    "\n",
    "    return wrapper\n",
    "\n",
    "\n",
    "# test timer decorator\n",
    "@_timeit\n",
    "def test_timer():\n",
    "    time.sleep(2)\n",
    "\n",
    "\n",
    "# test_timer()\n",
    "\n",
    "# CONSTANTS\n",
    "DEBUG = True  # upper case to indicate a constant\n",
    "SYSTEM = 'fitbit'\n",
    "START_TIME = pd.to_datetime('now', utc=True)\n",
    "\n",
    "\n",
    "def debug_print(*args):\n",
    "    if DEBUG:\n",
    "        print(*args)"
   ]
  },
  {
   "cell_type": "markdown",
   "id": "ec7dfa41-d058-4144-9aae-00a2d396a26d",
   "metadata": {},
   "source": [
    "# Logger"
   ]
  },
  {
   "cell_type": "code",
   "execution_count": 390,
   "id": "ad26ab2a-2469-468a-9fbe-4aa883a011d9",
   "metadata": {
    "ExecuteTime": {
     "end_time": "2024-04-19T15:25:33.744326Z",
     "start_time": "2024-04-19T15:25:33.738975Z"
    }
   },
   "outputs": [
    {
     "name": "stderr",
     "output_type": "stream",
     "text": [
      "********** IMPORTANT: First Line **********\n",
      "********** IMPORTANT: First Line **********\n",
      "********** IMPORTANT: First Line **********\n",
      "********** IMPORTANT: First Line **********\n",
      "********** IMPORTANT: First Line **********\n",
      "********** IMPORTANT: First Line **********\n",
      "********** IMPORTANT: First Line **********\n",
      "********** IMPORTANT: First Line **********\n",
      "********** IMPORTANT: First Line **********\n",
      "********** IMPORTANT: First Line **********\n",
      "********** IMPORTANT: First Line **********\n"
     ]
    }
   ],
   "source": [
    "import logging\n",
    "from logs import log_dir\n",
    "\n",
    "\n",
    "class CustomFormatter(logging.Formatter):\n",
    "    def format(self, record):\n",
    "        if record.msg.startswith('IMPORTANT'):\n",
    "            return f\"********** {super().format(record)} **********\"\n",
    "        else:\n",
    "            return super().format(record)\n",
    "\n",
    "\n",
    "logging.basicConfig(filename=os.path.join(log_dir, 'etl.log'), level=logging.INFO)\n",
    "# Add a stream handler to the root logger to output to console\n",
    "console_handler = logging.StreamHandler()\n",
    "console_handler.setFormatter(CustomFormatter())\n",
    "console_handler.setLevel(logging.INFO)\n",
    "logging.getLogger().addHandler(console_handler)\n",
    "\n",
    "logger = logging.getLogger()\n",
    "\n",
    "logger.info('IMPORTANT: First Line')"
   ]
  },
  {
   "cell_type": "markdown",
   "id": "3b0a8bf15c753a1a",
   "metadata": {
    "collapsed": false
   },
   "source": [
    "# EXTRACT"
   ]
  },
  {
   "cell_type": "markdown",
   "id": "b4c47642049bbc39",
   "metadata": {
    "collapsed": false
   },
   "source": [
    "## EDA - Exploratory Data Analysis"
   ]
  },
  {
   "cell_type": "code",
   "execution_count": 391,
   "id": "adbc314efda1db11",
   "metadata": {
    "collapsed": false,
    "ExecuteTime": {
     "end_time": "2024-04-19T15:25:33.768486Z",
     "start_time": "2024-04-19T15:25:33.764374Z"
    }
   },
   "outputs": [],
   "source": [
    "# read from /data\n",
    "# on_bad_lines example is when e.g. not expected shape (can instead use a callable to handle)\n",
    "# https://stackoverflow.com/questions/33440805/pandas-dataframe-read-csv-on-bad-data\n",
    "# no need to have with open as pd.read_csv is a context manager\n",
    "input_file = os.path.join(input_data_dir, 'activity_data.csv')\n",
    "input_file_name = os.path.basename(input_file)\n",
    "input_file_name_without_ext = os.path.splitext(input_file_name)[0]\n",
    "\n",
    "df = pd.read_csv(input_file, encoding_errors='strict', on_bad_lines='warn')\n"
   ]
  },
  {
   "cell_type": "markdown",
   "source": [
    "## Select statements"
   ],
   "metadata": {
    "collapsed": false
   },
   "id": "b76f80a716c848f0"
  },
  {
   "cell_type": "code",
   "outputs": [
    {
     "data": {
      "text/plain": "             Id         Date  TotalSteps\n0    6117666160   2016-04-20     19542.0\n1    5577150313  2016-04-177     12231.0\n2    8877689391   2016-04-16     29326.0\n3    5577150313   2016-05-01     13368.0\n4    5577150313   2016-04-30     12363.0\n..          ...          ...         ...\n939  8583815059   2016-05-12         0.0\n940  1503960366   2016-04-27         NaN\n941  8877689391   2016-05-12      8064.0\n942  8877689391   2016-04-29      9733.0\n943  5577150313  2016-04-177     12231.0\n\n[944 rows x 3 columns]",
      "text/html": "<div>\n<style scoped>\n    .dataframe tbody tr th:only-of-type {\n        vertical-align: middle;\n    }\n\n    .dataframe tbody tr th {\n        vertical-align: top;\n    }\n\n    .dataframe thead th {\n        text-align: right;\n    }\n</style>\n<table border=\"1\" class=\"dataframe\">\n  <thead>\n    <tr style=\"text-align: right;\">\n      <th></th>\n      <th>Id</th>\n      <th>Date</th>\n      <th>TotalSteps</th>\n    </tr>\n  </thead>\n  <tbody>\n    <tr>\n      <th>0</th>\n      <td>6117666160</td>\n      <td>2016-04-20</td>\n      <td>19542.0</td>\n    </tr>\n    <tr>\n      <th>1</th>\n      <td>5577150313</td>\n      <td>2016-04-177</td>\n      <td>12231.0</td>\n    </tr>\n    <tr>\n      <th>2</th>\n      <td>8877689391</td>\n      <td>2016-04-16</td>\n      <td>29326.0</td>\n    </tr>\n    <tr>\n      <th>3</th>\n      <td>5577150313</td>\n      <td>2016-05-01</td>\n      <td>13368.0</td>\n    </tr>\n    <tr>\n      <th>4</th>\n      <td>5577150313</td>\n      <td>2016-04-30</td>\n      <td>12363.0</td>\n    </tr>\n    <tr>\n      <th>...</th>\n      <td>...</td>\n      <td>...</td>\n      <td>...</td>\n    </tr>\n    <tr>\n      <th>939</th>\n      <td>8583815059</td>\n      <td>2016-05-12</td>\n      <td>0.0</td>\n    </tr>\n    <tr>\n      <th>940</th>\n      <td>1503960366</td>\n      <td>2016-04-27</td>\n      <td>NaN</td>\n    </tr>\n    <tr>\n      <th>941</th>\n      <td>8877689391</td>\n      <td>2016-05-12</td>\n      <td>8064.0</td>\n    </tr>\n    <tr>\n      <th>942</th>\n      <td>8877689391</td>\n      <td>2016-04-29</td>\n      <td>9733.0</td>\n    </tr>\n    <tr>\n      <th>943</th>\n      <td>5577150313</td>\n      <td>2016-04-177</td>\n      <td>12231.0</td>\n    </tr>\n  </tbody>\n</table>\n<p>944 rows × 3 columns</p>\n</div>"
     },
     "execution_count": 392,
     "metadata": {},
     "output_type": "execute_result"
    }
   ],
   "source": [
    "df[[col for col in df.columns if 'minutes' in col.lower()]]  # select columns based on name\n",
    "\n",
    "# return a subset of the dataframe's columns \n",
    "df.select_dtypes(include=np.number)\n",
    "df.select_dtypes('int')\n",
    "\n",
    "df[df.columns[:3]]  # first 3 columns"
   ],
   "metadata": {
    "collapsed": false,
    "ExecuteTime": {
     "end_time": "2024-04-19T15:25:33.805906Z",
     "start_time": "2024-04-19T15:25:33.800580Z"
    }
   },
   "id": "703cc745d250a948",
   "execution_count": 392
  },
  {
   "cell_type": "markdown",
   "source": [
    "## (i)loc filter expressions / slicing"
   ],
   "metadata": {
    "collapsed": false
   },
   "id": "cb68b767215bb0d6"
  },
  {
   "cell_type": "code",
   "outputs": [
    {
     "data": {
      "text/plain": "            max_speed  shield\ncobra               1       2\nviper               4       5\nsidewinder          7       8",
      "text/html": "<div>\n<style scoped>\n    .dataframe tbody tr th:only-of-type {\n        vertical-align: middle;\n    }\n\n    .dataframe tbody tr th {\n        vertical-align: top;\n    }\n\n    .dataframe thead th {\n        text-align: right;\n    }\n</style>\n<table border=\"1\" class=\"dataframe\">\n  <thead>\n    <tr style=\"text-align: right;\">\n      <th></th>\n      <th>max_speed</th>\n      <th>shield</th>\n    </tr>\n  </thead>\n  <tbody>\n    <tr>\n      <th>cobra</th>\n      <td>1</td>\n      <td>2</td>\n    </tr>\n    <tr>\n      <th>viper</th>\n      <td>4</td>\n      <td>5</td>\n    </tr>\n    <tr>\n      <th>sidewinder</th>\n      <td>7</td>\n      <td>8</td>\n    </tr>\n  </tbody>\n</table>\n</div>"
     },
     "execution_count": 393,
     "metadata": {},
     "output_type": "execute_result"
    }
   ],
   "source": [
    "# NB iloc uses index whereas loc uses column names and is ∴ more popular\n",
    "\n",
    "df1 = pd.DataFrame([[1, 2], [4, 5], [7, 8]],\n",
    "                   index=['cobra', 'viper', 'sidewinder'],\n",
    "                   columns=['max_speed', 'shield'])\n",
    "df1"
   ],
   "metadata": {
    "collapsed": false,
    "ExecuteTime": {
     "end_time": "2024-04-19T15:25:33.880458Z",
     "start_time": "2024-04-19T15:25:33.876897Z"
    }
   },
   "id": "cce98d9a67bfd2a1",
   "execution_count": 393
  },
  {
   "cell_type": "code",
   "outputs": [
    {
     "data": {
      "text/plain": "            max_speed  shield\nsidewinder          7       8",
      "text/html": "<div>\n<style scoped>\n    .dataframe tbody tr th:only-of-type {\n        vertical-align: middle;\n    }\n\n    .dataframe tbody tr th {\n        vertical-align: top;\n    }\n\n    .dataframe thead th {\n        text-align: right;\n    }\n</style>\n<table border=\"1\" class=\"dataframe\">\n  <thead>\n    <tr style=\"text-align: right;\">\n      <th></th>\n      <th>max_speed</th>\n      <th>shield</th>\n    </tr>\n  </thead>\n  <tbody>\n    <tr>\n      <th>sidewinder</th>\n      <td>7</td>\n      <td>8</td>\n    </tr>\n  </tbody>\n</table>\n</div>"
     },
     "execution_count": 394,
     "metadata": {},
     "output_type": "execute_result"
    }
   ],
   "source": [
    "# series of boolean values which has to be the same length as the index\n",
    "s = pd.Series([False, True, False],\n",
    "              index=['viper', 'sidewinder', 'cobra']  # index has to match the index of the dataframe\n",
    "              )\n",
    "\n",
    "df1.loc[s]  # returns the rows where s is True"
   ],
   "metadata": {
    "collapsed": false,
    "ExecuteTime": {
     "end_time": "2024-04-19T15:25:33.951864Z",
     "start_time": "2024-04-19T15:25:33.948303Z"
    }
   },
   "id": "20da6794e2a46444",
   "execution_count": 394
  },
  {
   "cell_type": "code",
   "outputs": [
    {
     "data": {
      "text/plain": "           Id         Date  TotalSteps  TotalDistance  SedentaryMinutes  \\\n0  6117666160   2016-04-20     19542.0          15.01             579.0   \n1  5577150313  2016-04-177     12231.0           9.14             525.0   \n\n   TotalActiveMinutes  Calories  yes_no  \n0                 324      4900       1  \n1                 396      4552       0  ",
      "text/html": "<div>\n<style scoped>\n    .dataframe tbody tr th:only-of-type {\n        vertical-align: middle;\n    }\n\n    .dataframe tbody tr th {\n        vertical-align: top;\n    }\n\n    .dataframe thead th {\n        text-align: right;\n    }\n</style>\n<table border=\"1\" class=\"dataframe\">\n  <thead>\n    <tr style=\"text-align: right;\">\n      <th></th>\n      <th>Id</th>\n      <th>Date</th>\n      <th>TotalSteps</th>\n      <th>TotalDistance</th>\n      <th>SedentaryMinutes</th>\n      <th>TotalActiveMinutes</th>\n      <th>Calories</th>\n      <th>yes_no</th>\n    </tr>\n  </thead>\n  <tbody>\n    <tr>\n      <th>0</th>\n      <td>6117666160</td>\n      <td>2016-04-20</td>\n      <td>19542.0</td>\n      <td>15.01</td>\n      <td>579.0</td>\n      <td>324</td>\n      <td>4900</td>\n      <td>1</td>\n    </tr>\n    <tr>\n      <th>1</th>\n      <td>5577150313</td>\n      <td>2016-04-177</td>\n      <td>12231.0</td>\n      <td>9.14</td>\n      <td>525.0</td>\n      <td>396</td>\n      <td>4552</td>\n      <td>0</td>\n    </tr>\n  </tbody>\n</table>\n</div>"
     },
     "execution_count": 395,
     "metadata": {},
     "output_type": "execute_result"
    }
   ],
   "source": [
    "df.iloc[:1, :1]  # first row and first column\n",
    "df.iloc[1:3, 0:1]  # rows 1 and 2 and column 0\n",
    "df.iloc[:2]  # first 2 rows\n"
   ],
   "metadata": {
    "collapsed": false,
    "ExecuteTime": {
     "end_time": "2024-04-19T15:25:33.983919Z",
     "start_time": "2024-04-19T15:25:33.978956Z"
    }
   },
   "id": "7af3dcb43bdfd23",
   "execution_count": 395
  },
  {
   "cell_type": "markdown",
   "source": [
    "## Filter"
   ],
   "metadata": {
    "collapsed": false
   },
   "id": "7979d4b4304d3c5"
  },
  {
   "cell_type": "code",
   "outputs": [
    {
     "data": {
      "text/plain": "             Id        Date  TotalSteps  TotalDistance  SedentaryMinutes  \\\n9    8378563200  2016-04-14         NaN          10.56             699.0   \n461  1503960366  2016-04-27         NaN          12.21            1108.0   \n940  1503960366  2016-04-27         NaN          12.21            1108.0   \n\n     TotalActiveMinutes  Calories  yes_no  \n9                   318      4163       0  \n461                 332      2159       0  \n940                 332      2159       1  ",
      "text/html": "<div>\n<style scoped>\n    .dataframe tbody tr th:only-of-type {\n        vertical-align: middle;\n    }\n\n    .dataframe tbody tr th {\n        vertical-align: top;\n    }\n\n    .dataframe thead th {\n        text-align: right;\n    }\n</style>\n<table border=\"1\" class=\"dataframe\">\n  <thead>\n    <tr style=\"text-align: right;\">\n      <th></th>\n      <th>Id</th>\n      <th>Date</th>\n      <th>TotalSteps</th>\n      <th>TotalDistance</th>\n      <th>SedentaryMinutes</th>\n      <th>TotalActiveMinutes</th>\n      <th>Calories</th>\n      <th>yes_no</th>\n    </tr>\n  </thead>\n  <tbody>\n    <tr>\n      <th>9</th>\n      <td>8378563200</td>\n      <td>2016-04-14</td>\n      <td>NaN</td>\n      <td>10.56</td>\n      <td>699.0</td>\n      <td>318</td>\n      <td>4163</td>\n      <td>0</td>\n    </tr>\n    <tr>\n      <th>461</th>\n      <td>1503960366</td>\n      <td>2016-04-27</td>\n      <td>NaN</td>\n      <td>12.21</td>\n      <td>1108.0</td>\n      <td>332</td>\n      <td>2159</td>\n      <td>0</td>\n    </tr>\n    <tr>\n      <th>940</th>\n      <td>1503960366</td>\n      <td>2016-04-27</td>\n      <td>NaN</td>\n      <td>12.21</td>\n      <td>1108.0</td>\n      <td>332</td>\n      <td>2159</td>\n      <td>1</td>\n    </tr>\n  </tbody>\n</table>\n</div>"
     },
     "execution_count": 396,
     "metadata": {},
     "output_type": "execute_result"
    }
   ],
   "source": [
    "df.loc[df['TotalActiveMinutes'] > 100]  # filter where TotalActiveMinutes > 100\n",
    "df.loc[df['TotalActiveMinutes'] > 100, ['Date', 'TotalActiveMinutes']]  # filter and select columns\n",
    "df.loc[:2, ['Id']]  # first 2 rows\n",
    "# or use query\n",
    "df.query('TotalActiveMinutes > 100')[['Date', 'TotalActiveMinutes']]\n",
    "df.query('Calories > 1000 and TotalDistance > 10')[['Date', 'Calories', 'TotalDistance']]\n",
    "df.query('TotalActiveMinutes == 0').shape[0]  # count where TotalActiveMinutes == 0\n",
    "df.query('TotalSteps.isna()')"
   ],
   "metadata": {
    "collapsed": false,
    "ExecuteTime": {
     "end_time": "2024-04-19T15:25:34.071637Z",
     "start_time": "2024-04-19T15:25:34.063063Z"
    }
   },
   "id": "12d57be1c2792d73",
   "execution_count": 396
  },
  {
   "cell_type": "markdown",
   "source": [
    "## Aggregation"
   ],
   "metadata": {
    "collapsed": false
   },
   "id": "e1f6cbb389b493d"
  },
  {
   "cell_type": "code",
   "outputs": [
    {
     "data": {
      "text/plain": "0.25    147.0\n0.50    247.0\n0.75    318.0\nName: TotalActiveMinutes, dtype: float64"
     },
     "execution_count": 397,
     "metadata": {},
     "output_type": "execute_result"
    }
   ],
   "source": [
    "df['TotalActiveMinutes'].describe()\n",
    "df[['TotalActiveMinutes', 'TotalDistance']].agg(['mean', 'std', 'min', 'max'])\n",
    "# quantiles\n",
    "df['TotalActiveMinutes'].quantile([0.25, 0.5, 0.75])  # 25th, 50th and 75th percentile"
   ],
   "metadata": {
    "collapsed": false,
    "ExecuteTime": {
     "end_time": "2024-04-19T15:25:34.202386Z",
     "start_time": "2024-04-19T15:25:34.196514Z"
    }
   },
   "id": "9270f26729d8ab63",
   "execution_count": 397
  },
  {
   "cell_type": "markdown",
   "source": [
    "## Rank, shift, cumsum, rolling, clip"
   ],
   "metadata": {
    "collapsed": false
   },
   "id": "bd43be561c7de166"
  },
  {
   "cell_type": "code",
   "outputs": [
    {
     "data": {
      "text/plain": "     TotalActiveMinutes  DefaultRank  DenseRank  FirstRank\n518                   0         42.0        1.0        8.0\n357                   0         42.0        1.0        6.0\n523                   0         42.0        1.0       12.0\n522                   0         42.0        1.0       11.0\n772                   0         42.0        1.0       53.0\n..                  ...          ...        ...        ...\n599                   0         42.0        1.0       37.0\n693                   0         42.0        1.0       42.0\n911                   0         42.0        1.0       76.0\n587                   0         42.0        1.0       25.0\n692                   0         42.0        1.0       41.0\n\n[83 rows x 4 columns]",
      "text/html": "<div>\n<style scoped>\n    .dataframe tbody tr th:only-of-type {\n        vertical-align: middle;\n    }\n\n    .dataframe tbody tr th {\n        vertical-align: top;\n    }\n\n    .dataframe thead th {\n        text-align: right;\n    }\n</style>\n<table border=\"1\" class=\"dataframe\">\n  <thead>\n    <tr style=\"text-align: right;\">\n      <th></th>\n      <th>TotalActiveMinutes</th>\n      <th>DefaultRank</th>\n      <th>DenseRank</th>\n      <th>FirstRank</th>\n    </tr>\n  </thead>\n  <tbody>\n    <tr>\n      <th>518</th>\n      <td>0</td>\n      <td>42.0</td>\n      <td>1.0</td>\n      <td>8.0</td>\n    </tr>\n    <tr>\n      <th>357</th>\n      <td>0</td>\n      <td>42.0</td>\n      <td>1.0</td>\n      <td>6.0</td>\n    </tr>\n    <tr>\n      <th>523</th>\n      <td>0</td>\n      <td>42.0</td>\n      <td>1.0</td>\n      <td>12.0</td>\n    </tr>\n    <tr>\n      <th>522</th>\n      <td>0</td>\n      <td>42.0</td>\n      <td>1.0</td>\n      <td>11.0</td>\n    </tr>\n    <tr>\n      <th>772</th>\n      <td>0</td>\n      <td>42.0</td>\n      <td>1.0</td>\n      <td>53.0</td>\n    </tr>\n    <tr>\n      <th>...</th>\n      <td>...</td>\n      <td>...</td>\n      <td>...</td>\n      <td>...</td>\n    </tr>\n    <tr>\n      <th>599</th>\n      <td>0</td>\n      <td>42.0</td>\n      <td>1.0</td>\n      <td>37.0</td>\n    </tr>\n    <tr>\n      <th>693</th>\n      <td>0</td>\n      <td>42.0</td>\n      <td>1.0</td>\n      <td>42.0</td>\n    </tr>\n    <tr>\n      <th>911</th>\n      <td>0</td>\n      <td>42.0</td>\n      <td>1.0</td>\n      <td>76.0</td>\n    </tr>\n    <tr>\n      <th>587</th>\n      <td>0</td>\n      <td>42.0</td>\n      <td>1.0</td>\n      <td>25.0</td>\n    </tr>\n    <tr>\n      <th>692</th>\n      <td>0</td>\n      <td>42.0</td>\n      <td>1.0</td>\n      <td>41.0</td>\n    </tr>\n  </tbody>\n</table>\n<p>83 rows × 4 columns</p>\n</div>"
     },
     "execution_count": 398,
     "metadata": {},
     "output_type": "execute_result"
    }
   ],
   "source": [
    "# Rank the TotalActiveMinutes\n",
    "# there are 83 tied values of 0, so default rank method is take the average of the 1st and last tie \n",
    "# ie 1 + 83 / 2 = 42\n",
    "\n",
    "# chain methods\n",
    "df.query('TotalActiveMinutes == 0'). \\\n",
    "    groupby('TotalActiveMinutes') \\\n",
    "    [['Id']]. \\\n",
    "    count()\n",
    "# or use value_counts which is a shortcut ⭐️\n",
    "df['TotalActiveMinutes'].value_counts()  # can be extended to include other columns\n",
    "\n",
    "df['DenseRank'] = df[['TotalActiveMinutes']].rank(method='dense')  # ensures no gaps between ranks\n",
    "df['DefaultRank'] = df[['TotalActiveMinutes']].rank()\n",
    "df['FirstRank'] = df[['TotalActiveMinutes']].rank(method='first')  # rank in order of appearance\n",
    "df[['TotalActiveMinutes', 'DefaultRank', 'DenseRank', 'FirstRank']]. \\\n",
    "    sort_values(by='TotalActiveMinutes') \\\n",
    "    .query('TotalActiveMinutes == 0')\n",
    "# .reset_index(drop=True)\n"
   ],
   "metadata": {
    "collapsed": false,
    "ExecuteTime": {
     "end_time": "2024-04-19T15:25:34.328680Z",
     "start_time": "2024-04-19T15:25:34.318228Z"
    }
   },
   "id": "8b13a9ddc743b99b",
   "execution_count": 398
  },
  {
   "cell_type": "code",
   "outputs": [
    {
     "data": {
      "text/plain": "   TotalActiveMinutes  TotalActiveMinutesShift  TotalActiveMinutesDiff\n0                 324                      NaN                     NaN\n1                 396                    324.0                    72.0\n2                 552                    396.0                   156.0\n3                 444                    552.0                  -108.0\n4                 415                    444.0                   -29.0",
      "text/html": "<div>\n<style scoped>\n    .dataframe tbody tr th:only-of-type {\n        vertical-align: middle;\n    }\n\n    .dataframe tbody tr th {\n        vertical-align: top;\n    }\n\n    .dataframe thead th {\n        text-align: right;\n    }\n</style>\n<table border=\"1\" class=\"dataframe\">\n  <thead>\n    <tr style=\"text-align: right;\">\n      <th></th>\n      <th>TotalActiveMinutes</th>\n      <th>TotalActiveMinutesShift</th>\n      <th>TotalActiveMinutesDiff</th>\n    </tr>\n  </thead>\n  <tbody>\n    <tr>\n      <th>0</th>\n      <td>324</td>\n      <td>NaN</td>\n      <td>NaN</td>\n    </tr>\n    <tr>\n      <th>1</th>\n      <td>396</td>\n      <td>324.0</td>\n      <td>72.0</td>\n    </tr>\n    <tr>\n      <th>2</th>\n      <td>552</td>\n      <td>396.0</td>\n      <td>156.0</td>\n    </tr>\n    <tr>\n      <th>3</th>\n      <td>444</td>\n      <td>552.0</td>\n      <td>-108.0</td>\n    </tr>\n    <tr>\n      <th>4</th>\n      <td>415</td>\n      <td>444.0</td>\n      <td>-29.0</td>\n    </tr>\n  </tbody>\n</table>\n</div>"
     },
     "execution_count": 399,
     "metadata": {},
     "output_type": "execute_result"
    }
   ],
   "source": [
    "# shift -  shift the column down by 1\n",
    "\n",
    "df['TotalActiveMinutesShift'] = df['TotalActiveMinutes'].shift(1)  # shift the column down by 1\n",
    "df['TotalActiveMinutesDiff'] = df['TotalActiveMinutes'] - df[\n",
    "    'TotalActiveMinutesShift']  # calculate the difference\n",
    "df[['TotalActiveMinutes', 'TotalActiveMinutesShift', 'TotalActiveMinutesDiff']].head()"
   ],
   "metadata": {
    "collapsed": false,
    "ExecuteTime": {
     "end_time": "2024-04-19T15:25:34.400528Z",
     "start_time": "2024-04-19T15:25:34.395483Z"
    }
   },
   "id": "34f57d49617ed6b8",
   "execution_count": 399
  },
  {
   "cell_type": "code",
   "outputs": [
    {
     "data": {
      "text/plain": "   TotalActiveMinutes  TotalActiveMinutesCumSum\n0                 324                       324\n1                 396                       720\n2                 552                      1272\n3                 444                      1716\n4                 415                      2131",
      "text/html": "<div>\n<style scoped>\n    .dataframe tbody tr th:only-of-type {\n        vertical-align: middle;\n    }\n\n    .dataframe tbody tr th {\n        vertical-align: top;\n    }\n\n    .dataframe thead th {\n        text-align: right;\n    }\n</style>\n<table border=\"1\" class=\"dataframe\">\n  <thead>\n    <tr style=\"text-align: right;\">\n      <th></th>\n      <th>TotalActiveMinutes</th>\n      <th>TotalActiveMinutesCumSum</th>\n    </tr>\n  </thead>\n  <tbody>\n    <tr>\n      <th>0</th>\n      <td>324</td>\n      <td>324</td>\n    </tr>\n    <tr>\n      <th>1</th>\n      <td>396</td>\n      <td>720</td>\n    </tr>\n    <tr>\n      <th>2</th>\n      <td>552</td>\n      <td>1272</td>\n    </tr>\n    <tr>\n      <th>3</th>\n      <td>444</td>\n      <td>1716</td>\n    </tr>\n    <tr>\n      <th>4</th>\n      <td>415</td>\n      <td>2131</td>\n    </tr>\n  </tbody>\n</table>\n</div>"
     },
     "execution_count": 400,
     "metadata": {},
     "output_type": "execute_result"
    }
   ],
   "source": [
    "# cumsum - cumulative sum\n",
    "df['TotalActiveMinutesCumSum'] = df['TotalActiveMinutes'].cumsum()\n",
    "df[['TotalActiveMinutes', 'TotalActiveMinutesCumSum']].head()"
   ],
   "metadata": {
    "collapsed": false,
    "ExecuteTime": {
     "end_time": "2024-04-19T15:25:34.526187Z",
     "start_time": "2024-04-19T15:25:34.521708Z"
    }
   },
   "id": "8dc24d40b00b99d7",
   "execution_count": 400
  },
  {
   "cell_type": "code",
   "outputs": [
    {
     "data": {
      "text/plain": "TotalActiveMinutes  TotalActiveMinutesCumMax\n0                   552                         83\n258                 552                          9\n335                 552                          8\n242                 552                          7\n268                 552                          7\n                                                ..\n76                  552                          1\n72                  552                          1\n71                  552                          1\n70                  552                          1\n552                 552                          1\nLength: 367, dtype: int64"
     },
     "execution_count": 401,
     "metadata": {},
     "output_type": "execute_result"
    }
   ],
   "source": [
    "# cummax - cumulative max (other related functions are cummin, cumprod)\n",
    "df['TotalActiveMinutesCumMax'] = df['TotalActiveMinutes'].cummax()\n",
    "df[['TotalActiveMinutes', 'TotalActiveMinutesCumMax']].value_counts()"
   ],
   "metadata": {
    "collapsed": false,
    "ExecuteTime": {
     "end_time": "2024-04-19T15:25:34.552844Z",
     "start_time": "2024-04-19T15:25:34.547873Z"
    }
   },
   "id": "13f9b41a94af90a9",
   "execution_count": 401
  },
  {
   "cell_type": "code",
   "outputs": [
    {
     "data": {
      "text/plain": "   TotalActiveMinutes  TotalActiveMinutesRolling\n0                 324                        NaN\n1                 396                      360.0\n2                 552                      474.0\n3                 444                      498.0\n4                 415                      429.5",
      "text/html": "<div>\n<style scoped>\n    .dataframe tbody tr th:only-of-type {\n        vertical-align: middle;\n    }\n\n    .dataframe tbody tr th {\n        vertical-align: top;\n    }\n\n    .dataframe thead th {\n        text-align: right;\n    }\n</style>\n<table border=\"1\" class=\"dataframe\">\n  <thead>\n    <tr style=\"text-align: right;\">\n      <th></th>\n      <th>TotalActiveMinutes</th>\n      <th>TotalActiveMinutesRolling</th>\n    </tr>\n  </thead>\n  <tbody>\n    <tr>\n      <th>0</th>\n      <td>324</td>\n      <td>NaN</td>\n    </tr>\n    <tr>\n      <th>1</th>\n      <td>396</td>\n      <td>360.0</td>\n    </tr>\n    <tr>\n      <th>2</th>\n      <td>552</td>\n      <td>474.0</td>\n    </tr>\n    <tr>\n      <th>3</th>\n      <td>444</td>\n      <td>498.0</td>\n    </tr>\n    <tr>\n      <th>4</th>\n      <td>415</td>\n      <td>429.5</td>\n    </tr>\n  </tbody>\n</table>\n</div>"
     },
     "execution_count": 402,
     "metadata": {},
     "output_type": "execute_result"
    }
   ],
   "source": [
    "# rolling - moving average\n",
    "df['TotalActiveMinutesRolling'] = df['TotalActiveMinutes'].rolling(window=2).mean()\n",
    "df[['TotalActiveMinutes', 'TotalActiveMinutesRolling']].head()"
   ],
   "metadata": {
    "collapsed": false,
    "ExecuteTime": {
     "end_time": "2024-04-19T15:25:34.629363Z",
     "start_time": "2024-04-19T15:25:34.625033Z"
    }
   },
   "id": "50ce4dc52f7ee9a8",
   "execution_count": 402
  },
  {
   "cell_type": "code",
   "outputs": [
    {
     "data": {
      "text/plain": "     TotalActiveMinutes  TotalActiveMinutesClip\n0                   324                     100\n1                   396                     100\n2                   552                     100\n3                   444                     100\n4                   415                     100\n..                  ...                     ...\n939                   0                       0\n940                 332                     100\n941                 161                     100\n942                 233                     100\n943                 396                     100\n\n[944 rows x 2 columns]",
      "text/html": "<div>\n<style scoped>\n    .dataframe tbody tr th:only-of-type {\n        vertical-align: middle;\n    }\n\n    .dataframe tbody tr th {\n        vertical-align: top;\n    }\n\n    .dataframe thead th {\n        text-align: right;\n    }\n</style>\n<table border=\"1\" class=\"dataframe\">\n  <thead>\n    <tr style=\"text-align: right;\">\n      <th></th>\n      <th>TotalActiveMinutes</th>\n      <th>TotalActiveMinutesClip</th>\n    </tr>\n  </thead>\n  <tbody>\n    <tr>\n      <th>0</th>\n      <td>324</td>\n      <td>100</td>\n    </tr>\n    <tr>\n      <th>1</th>\n      <td>396</td>\n      <td>100</td>\n    </tr>\n    <tr>\n      <th>2</th>\n      <td>552</td>\n      <td>100</td>\n    </tr>\n    <tr>\n      <th>3</th>\n      <td>444</td>\n      <td>100</td>\n    </tr>\n    <tr>\n      <th>4</th>\n      <td>415</td>\n      <td>100</td>\n    </tr>\n    <tr>\n      <th>...</th>\n      <td>...</td>\n      <td>...</td>\n    </tr>\n    <tr>\n      <th>939</th>\n      <td>0</td>\n      <td>0</td>\n    </tr>\n    <tr>\n      <th>940</th>\n      <td>332</td>\n      <td>100</td>\n    </tr>\n    <tr>\n      <th>941</th>\n      <td>161</td>\n      <td>100</td>\n    </tr>\n    <tr>\n      <th>942</th>\n      <td>233</td>\n      <td>100</td>\n    </tr>\n    <tr>\n      <th>943</th>\n      <td>396</td>\n      <td>100</td>\n    </tr>\n  </tbody>\n</table>\n<p>944 rows × 2 columns</p>\n</div>"
     },
     "execution_count": 403,
     "metadata": {},
     "output_type": "execute_result"
    }
   ],
   "source": [
    "# clip - clip values to a threshold\n",
    "# so any value below 0 is set to 0 and any value above 100 is set to 100\n",
    "# useful for outliers\n",
    "df['TotalActiveMinutesClip'] = df['TotalActiveMinutes'].clip(lower=0, upper=100)\n",
    "df[['TotalActiveMinutes', 'TotalActiveMinutesClip']]"
   ],
   "metadata": {
    "collapsed": false,
    "ExecuteTime": {
     "end_time": "2024-04-19T15:25:34.728339Z",
     "start_time": "2024-04-19T15:25:34.723484Z"
    }
   },
   "id": "f0541b60f21a1181",
   "execution_count": 403
  },
  {
   "cell_type": "markdown",
   "source": [
    "## Group By and Aggregation\n",
    "\n",
    "- group by a column and aggregate"
   ],
   "metadata": {
    "collapsed": false
   },
   "id": "1f0a26e559ba13a"
  },
  {
   "cell_type": "code",
   "outputs": [
    {
     "data": {
      "text/plain": "                Max Speed\nAnimal Type              \nFalcon Captive      390.0\n       Wild         350.0\nParrot Captive       30.0\n       Wild           NaN",
      "text/html": "<div>\n<style scoped>\n    .dataframe tbody tr th:only-of-type {\n        vertical-align: middle;\n    }\n\n    .dataframe tbody tr th {\n        vertical-align: top;\n    }\n\n    .dataframe thead th {\n        text-align: right;\n    }\n</style>\n<table border=\"1\" class=\"dataframe\">\n  <thead>\n    <tr style=\"text-align: right;\">\n      <th></th>\n      <th></th>\n      <th>Max Speed</th>\n    </tr>\n    <tr>\n      <th>Animal</th>\n      <th>Type</th>\n      <th></th>\n    </tr>\n  </thead>\n  <tbody>\n    <tr>\n      <th rowspan=\"2\" valign=\"top\">Falcon</th>\n      <th>Captive</th>\n      <td>390.0</td>\n    </tr>\n    <tr>\n      <th>Wild</th>\n      <td>350.0</td>\n    </tr>\n    <tr>\n      <th rowspan=\"2\" valign=\"top\">Parrot</th>\n      <th>Captive</th>\n      <td>30.0</td>\n    </tr>\n    <tr>\n      <th>Wild</th>\n      <td>NaN</td>\n    </tr>\n  </tbody>\n</table>\n</div>"
     },
     "execution_count": 404,
     "metadata": {},
     "output_type": "execute_result"
    }
   ],
   "source": [
    "# from docs for multi index\n",
    "arrays = [['Falcon', 'Falcon', 'Parrot', 'Parrot'],\n",
    "          ['Captive', 'Wild', 'Captive', 'Wild']]\n",
    "index = pd.MultiIndex.from_arrays(arrays, names=('Animal', 'Type'))  # multi index\n",
    "df_animal = pd.DataFrame({'Max Speed': [390., 350., 30., np.NAN]},\n",
    "                  index=index)\n",
    "df_animal"
   ],
   "metadata": {
    "collapsed": false,
    "ExecuteTime": {
     "end_time": "2024-04-19T15:25:34.840653Z",
     "start_time": "2024-04-19T15:25:34.836135Z"
    }
   },
   "id": "eb095e4e0e6b97ce",
   "execution_count": 404
  },
  {
   "cell_type": "code",
   "outputs": [
    {
     "data": {
      "text/plain": "         Max_Speed_mean  Max_Speed_std  Max_Speed_min  Max_Speed_max\nType                                                                \nWild              350.0    -999.000000          350.0          350.0\nCaptive           210.0     254.558441           30.0          390.0",
      "text/html": "<div>\n<style scoped>\n    .dataframe tbody tr th:only-of-type {\n        vertical-align: middle;\n    }\n\n    .dataframe tbody tr th {\n        vertical-align: top;\n    }\n\n    .dataframe thead th {\n        text-align: right;\n    }\n</style>\n<table border=\"1\" class=\"dataframe\">\n  <thead>\n    <tr style=\"text-align: right;\">\n      <th></th>\n      <th>Max_Speed_mean</th>\n      <th>Max_Speed_std</th>\n      <th>Max_Speed_min</th>\n      <th>Max_Speed_max</th>\n    </tr>\n    <tr>\n      <th>Type</th>\n      <th></th>\n      <th></th>\n      <th></th>\n      <th></th>\n    </tr>\n  </thead>\n  <tbody>\n    <tr>\n      <th>Wild</th>\n      <td>350.0</td>\n      <td>-999.000000</td>\n      <td>350.0</td>\n      <td>350.0</td>\n    </tr>\n    <tr>\n      <th>Captive</th>\n      <td>210.0</td>\n      <td>254.558441</td>\n      <td>30.0</td>\n      <td>390.0</td>\n    </tr>\n  </tbody>\n</table>\n</div>"
     },
     "execution_count": 405,
     "metadata": {},
     "output_type": "execute_result"
    }
   ],
   "source": [
    "\n",
    "# group by the first level of the multi index\n",
    "df_animal.groupby(level=0).mean()\n",
    "df_animal.groupby(level='Animal').mean()\n",
    "df_animal.groupby(level='Type').mean()\n",
    "\n",
    "# OR group by a column (NB. can use value_counts() to get the count)\n",
    "df_agg = df_animal.groupby('Type').agg(['mean', 'std', 'min', 'max'])\n",
    "# df_agg = df_animal.groupby('Type').agg(['mean', 'std', 'min', 'max']).dropna() # might need to drop NaNs\n",
    "# df_agg.columns is a multi index so now join the column names in the multi index \n",
    "df_agg.columns = ['_'.join(col).replace(' ', '_') for col in df_agg.columns.values]\n",
    "df_agg.sort_values(by='Max_Speed_mean', ascending=False).fillna(-999)"
   ],
   "metadata": {
    "collapsed": false,
    "ExecuteTime": {
     "end_time": "2024-04-19T15:25:34.909546Z",
     "start_time": "2024-04-19T15:25:34.901674Z"
    }
   },
   "id": "b9b9b81e39e96372",
   "execution_count": 405
  },
  {
   "cell_type": "markdown",
   "source": [
    "### Check for Nulls / Missing data"
   ],
   "metadata": {
    "collapsed": false
   },
   "id": "fd9efd9ab31b4f22"
  },
  {
   "cell_type": "code",
   "execution_count": 406,
   "id": "cd6974948478cf08",
   "metadata": {
    "collapsed": false,
    "ExecuteTime": {
     "end_time": "2024-04-19T15:25:34.994801Z",
     "start_time": "2024-04-19T15:25:34.989982Z"
    }
   },
   "outputs": [
    {
     "data": {
      "text/plain": "Id                           0\nDate                         0\nTotalSteps                   3\nTotalDistance                0\nSedentaryMinutes             1\nTotalActiveMinutes           0\nCalories                     0\nyes_no                       0\nDenseRank                    0\nDefaultRank                  0\nFirstRank                    0\nTotalActiveMinutesShift      1\nTotalActiveMinutesDiff       1\nTotalActiveMinutesCumSum     0\nTotalActiveMinutesCumMax     0\nTotalActiveMinutesRolling    1\nTotalActiveMinutesClip       0\ndtype: int64"
     },
     "execution_count": 406,
     "metadata": {},
     "output_type": "execute_result"
    }
   ],
   "source": [
    "# df.info() # can deduce from the non-null count vs the row count if there are any nulls\n",
    "df['TotalSteps'].isna().sum()  # count the number of NaNs in TotalSteps\n",
    "df['TotalSteps'].value_counts(dropna=False)  # count the number of NaNs in TotalSteps\n",
    "\n",
    "df[df['TotalSteps'].isna()]  # show the rows with NaN in TotalSteps\n",
    "df.isna().sum()  # count the number of NaNs in each column"
   ]
  },
  {
   "cell_type": "code",
   "outputs": [
    {
     "name": "stdout",
     "output_type": "stream",
     "text": [
      "mean=7628.280552603614\n"
     ]
    },
    {
     "data": {
      "text/plain": "             Id        Date   TotalSteps  TotalDistance  SedentaryMinutes  \\\n9    8378563200  2016-04-14  7628.280553          10.56             699.0   \n461  1503960366  2016-04-27  7628.280553          12.21            1108.0   \n940  1503960366  2016-04-27  7628.280553          12.21            1108.0   \n\n     TotalActiveMinutes  Calories  yes_no  DenseRank  DefaultRank  FirstRank  \\\n9                   318      4163       0      259.0        711.0      708.0   \n461                 332      2159       0      272.0        758.5      759.0   \n940                 332      2159       1      272.0        758.5      760.0   \n\n     TotalActiveMinutesShift  TotalActiveMinutesDiff  \\\n9                      298.0                    20.0   \n461                    370.0                   -38.0   \n940                      0.0                   332.0   \n\n     TotalActiveMinutesCumSum  TotalActiveMinutesCumMax  \\\n9                        3912                       552   \n461                    126802                       552   \n940                    214222                       552   \n\n     TotalActiveMinutesRolling  TotalActiveMinutesClip  \n9                        308.0                     100  \n461                      351.0                     100  \n940                      166.0                     100  ",
      "text/html": "<div>\n<style scoped>\n    .dataframe tbody tr th:only-of-type {\n        vertical-align: middle;\n    }\n\n    .dataframe tbody tr th {\n        vertical-align: top;\n    }\n\n    .dataframe thead th {\n        text-align: right;\n    }\n</style>\n<table border=\"1\" class=\"dataframe\">\n  <thead>\n    <tr style=\"text-align: right;\">\n      <th></th>\n      <th>Id</th>\n      <th>Date</th>\n      <th>TotalSteps</th>\n      <th>TotalDistance</th>\n      <th>SedentaryMinutes</th>\n      <th>TotalActiveMinutes</th>\n      <th>Calories</th>\n      <th>yes_no</th>\n      <th>DenseRank</th>\n      <th>DefaultRank</th>\n      <th>FirstRank</th>\n      <th>TotalActiveMinutesShift</th>\n      <th>TotalActiveMinutesDiff</th>\n      <th>TotalActiveMinutesCumSum</th>\n      <th>TotalActiveMinutesCumMax</th>\n      <th>TotalActiveMinutesRolling</th>\n      <th>TotalActiveMinutesClip</th>\n    </tr>\n  </thead>\n  <tbody>\n    <tr>\n      <th>9</th>\n      <td>8378563200</td>\n      <td>2016-04-14</td>\n      <td>7628.280553</td>\n      <td>10.56</td>\n      <td>699.0</td>\n      <td>318</td>\n      <td>4163</td>\n      <td>0</td>\n      <td>259.0</td>\n      <td>711.0</td>\n      <td>708.0</td>\n      <td>298.0</td>\n      <td>20.0</td>\n      <td>3912</td>\n      <td>552</td>\n      <td>308.0</td>\n      <td>100</td>\n    </tr>\n    <tr>\n      <th>461</th>\n      <td>1503960366</td>\n      <td>2016-04-27</td>\n      <td>7628.280553</td>\n      <td>12.21</td>\n      <td>1108.0</td>\n      <td>332</td>\n      <td>2159</td>\n      <td>0</td>\n      <td>272.0</td>\n      <td>758.5</td>\n      <td>759.0</td>\n      <td>370.0</td>\n      <td>-38.0</td>\n      <td>126802</td>\n      <td>552</td>\n      <td>351.0</td>\n      <td>100</td>\n    </tr>\n    <tr>\n      <th>940</th>\n      <td>1503960366</td>\n      <td>2016-04-27</td>\n      <td>7628.280553</td>\n      <td>12.21</td>\n      <td>1108.0</td>\n      <td>332</td>\n      <td>2159</td>\n      <td>1</td>\n      <td>272.0</td>\n      <td>758.5</td>\n      <td>760.0</td>\n      <td>0.0</td>\n      <td>332.0</td>\n      <td>214222</td>\n      <td>552</td>\n      <td>166.0</td>\n      <td>100</td>\n    </tr>\n  </tbody>\n</table>\n</div>"
     },
     "execution_count": 407,
     "metadata": {},
     "output_type": "execute_result"
    }
   ],
   "source": [
    "## FILLNA\n",
    "\n",
    "# s = df.isnull().any(axis='columns')\n",
    "# df[s]\n",
    "# replace NaN with -1\n",
    "# df.fillna(-1, inplace=True)\n",
    "# replace with mean\n",
    "mean = df['TotalSteps'].mean()\n",
    "print(f\"{mean=}\")\n",
    "df_nan_filled = df.fillna(mean).copy()\n",
    "df_nan_filled.query('TotalSteps == @mean')  # check that the mean has been replaced\n",
    "\n",
    "# show the rows with -1\n",
    "# df[df.eq(-1).any(axis=1)]"
   ],
   "metadata": {
    "ExecuteTime": {
     "end_time": "2024-04-19T15:25:35.090010Z",
     "start_time": "2024-04-19T15:25:35.082388Z"
    }
   },
   "id": "e95c659d",
   "execution_count": 407
  },
  {
   "cell_type": "code",
   "outputs": [
    {
     "data": {
      "text/plain": "0     2016-04-20\n1            NaT\n2     2016-04-16\n3     2016-05-01\n4     2016-04-30\n         ...    \n939   2016-05-12\n940   2016-04-27\n941   2016-05-12\n942   2016-04-29\n943          NaT\nName: Date, Length: 944, dtype: datetime64[ns]"
     },
     "execution_count": 408,
     "metadata": {},
     "output_type": "execute_result"
    }
   ],
   "source": [
    "pd.to_datetime(df['Date'], errors='coerce')\n",
    "# use query to filer where TotalSteps is NaN\n"
   ],
   "metadata": {
    "collapsed": false,
    "ExecuteTime": {
     "end_time": "2024-04-19T15:25:35.177397Z",
     "start_time": "2024-04-19T15:25:35.173596Z"
    }
   },
   "id": "a9cd3463ec9a161f",
   "execution_count": 408
  },
  {
   "cell_type": "markdown",
   "source": [
    "### CHECKPOINT 1\n",
    "\n",
    "- check the row count"
   ],
   "metadata": {
    "collapsed": false
   },
   "id": "b5c76d354541a8ff"
  },
  {
   "cell_type": "code",
   "execution_count": 409,
   "id": "4718d8bce1178c58",
   "metadata": {
    "collapsed": false,
    "ExecuteTime": {
     "end_time": "2024-04-19T15:25:35.304624Z",
     "start_time": "2024-04-19T15:25:35.299198Z"
    }
   },
   "outputs": [
    {
     "name": "stderr",
     "output_type": "stream",
     "text": [
      "Number of rows in source: 944\n",
      "Number of rows in source: 944\n",
      "Number of rows in source: 944\n",
      "Number of rows in source: 944\n",
      "Number of rows in source: 944\n",
      "Number of rows in source: 944\n",
      "Number of rows in source: 944\n",
      "Number of rows in source: 944\n",
      "Number of rows in source: 944\n",
      "Number of rows in source: 944\n",
      "Number of rows in source: 944\n"
     ]
    }
   ],
   "source": [
    "# validate that the number of rows is as expected\n",
    "_df_row_count = df.shape[0]\n",
    "\n",
    "# count the number of rows in the source\n",
    "with open(input_file) as f:\n",
    "    _src_row_count = sum(1 for line in f) - 1  # -1 to exclude the header\n",
    "    logger.info(f'Number of rows in source: {_src_row_count}')\n",
    "\n",
    "assert _df_row_count == _src_row_count, 'Row count mismatch'  # assert that the row count is as expected"
   ]
  },
  {
   "cell_type": "code",
   "execution_count": 410,
   "id": "1c8d71296fcdabe8",
   "metadata": {
    "collapsed": false,
    "editable": true,
    "slideshow": {
     "slide_type": ""
    },
    "tags": [],
    "ExecuteTime": {
     "end_time": "2024-04-19T15:25:35.463715Z",
     "start_time": "2024-04-19T15:25:35.447841Z"
    }
   },
   "outputs": [
    {
     "name": "stderr",
     "output_type": "stream",
     "text": [
      "Number of rows in df: 944\n",
      "Number of rows in df: 944\n",
      "Number of rows in df: 944\n",
      "Number of rows in df: 944\n",
      "Number of rows in df: 944\n",
      "Number of rows in df: 944\n",
      "Number of rows in df: 944\n",
      "Number of rows in df: 944\n",
      "Number of rows in df: 944\n",
      "Number of rows in df: 944\n",
      "Number of rows in df: 944\n"
     ]
    }
   ],
   "source": [
    "df.head()  # first 5 rows\n",
    "# df.shape # number of rows and columns\n",
    "df.describe()  # summary statistics\n",
    "# df.dtypes # data types for each column\n",
    "\n",
    "logger.info(f'Number of rows in df: {_df_row_count}')\n"
   ]
  },
  {
   "cell_type": "code",
   "execution_count": 411,
   "id": "728a35125167780d",
   "metadata": {
    "collapsed": false,
    "ExecuteTime": {
     "end_time": "2024-04-19T15:25:35.490837Z",
     "start_time": "2024-04-19T15:25:35.488710Z"
    }
   },
   "outputs": [],
   "source": [
    "# create a copy of df without rows ie same number of cols\n",
    "df_dq_issues = df.head(0)\n",
    "df_dq_column_name = '_dq_reason'\n",
    "df_dq_issues.insert(0, df_dq_column_name, '')\n"
   ]
  },
  {
   "cell_type": "code",
   "execution_count": 412,
   "id": "abe8f8da087e9d7e",
   "metadata": {
    "collapsed": false,
    "ExecuteTime": {
     "end_time": "2024-04-19T15:25:35.654766Z",
     "start_time": "2024-04-19T15:25:35.615Z"
    }
   },
   "outputs": [
    {
     "name": "stderr",
     "output_type": "stream",
     "text": [
      ">>> Columns and data types\n",
      ">>> Columns and data types\n",
      ">>> Columns and data types\n",
      ">>> Columns and data types\n",
      ">>> Columns and data types\n",
      ">>> Columns and data types\n",
      ">>> Columns and data types\n",
      ">>> Columns and data types\n",
      ">>> Columns and data types\n",
      ">>> Columns and data types\n",
      ">>> Columns and data types\n",
      "Id - int64\n",
      "Id - int64\n",
      "Id - int64\n",
      "Id - int64\n",
      "Id - int64\n",
      "Id - int64\n",
      "Id - int64\n",
      "Id - int64\n",
      "Id - int64\n",
      "Id - int64\n",
      "Id - int64\n",
      "Date - object\n",
      "Date - object\n",
      "Date - object\n",
      "Date - object\n",
      "Date - object\n",
      "Date - object\n",
      "Date - object\n",
      "Date - object\n",
      "Date - object\n",
      "Date - object\n",
      "Date - object\n",
      "TotalSteps - float64\n",
      "TotalSteps - float64\n",
      "TotalSteps - float64\n",
      "TotalSteps - float64\n",
      "TotalSteps - float64\n",
      "TotalSteps - float64\n",
      "TotalSteps - float64\n",
      "TotalSteps - float64\n",
      "TotalSteps - float64\n",
      "TotalSteps - float64\n",
      "TotalSteps - float64\n",
      "TotalDistance - float64\n",
      "TotalDistance - float64\n",
      "TotalDistance - float64\n",
      "TotalDistance - float64\n",
      "TotalDistance - float64\n",
      "TotalDistance - float64\n",
      "TotalDistance - float64\n",
      "TotalDistance - float64\n",
      "TotalDistance - float64\n",
      "TotalDistance - float64\n",
      "TotalDistance - float64\n",
      "SedentaryMinutes - float64\n",
      "SedentaryMinutes - float64\n",
      "SedentaryMinutes - float64\n",
      "SedentaryMinutes - float64\n",
      "SedentaryMinutes - float64\n",
      "SedentaryMinutes - float64\n",
      "SedentaryMinutes - float64\n",
      "SedentaryMinutes - float64\n",
      "SedentaryMinutes - float64\n",
      "SedentaryMinutes - float64\n",
      "SedentaryMinutes - float64\n",
      "TotalActiveMinutes - int64\n",
      "TotalActiveMinutes - int64\n",
      "TotalActiveMinutes - int64\n",
      "TotalActiveMinutes - int64\n",
      "TotalActiveMinutes - int64\n",
      "TotalActiveMinutes - int64\n",
      "TotalActiveMinutes - int64\n",
      "TotalActiveMinutes - int64\n",
      "TotalActiveMinutes - int64\n",
      "TotalActiveMinutes - int64\n",
      "TotalActiveMinutes - int64\n",
      "Calories - int64\n",
      "Calories - int64\n",
      "Calories - int64\n",
      "Calories - int64\n",
      "Calories - int64\n",
      "Calories - int64\n",
      "Calories - int64\n",
      "Calories - int64\n",
      "Calories - int64\n",
      "Calories - int64\n",
      "Calories - int64\n",
      "yes_no - int64\n",
      "yes_no - int64\n",
      "yes_no - int64\n",
      "yes_no - int64\n",
      "yes_no - int64\n",
      "yes_no - int64\n",
      "yes_no - int64\n",
      "yes_no - int64\n",
      "yes_no - int64\n",
      "yes_no - int64\n",
      "yes_no - int64\n",
      "DenseRank - float64\n",
      "DenseRank - float64\n",
      "DenseRank - float64\n",
      "DenseRank - float64\n",
      "DenseRank - float64\n",
      "DenseRank - float64\n",
      "DenseRank - float64\n",
      "DenseRank - float64\n",
      "DenseRank - float64\n",
      "DenseRank - float64\n",
      "DenseRank - float64\n",
      "DefaultRank - float64\n",
      "DefaultRank - float64\n",
      "DefaultRank - float64\n",
      "DefaultRank - float64\n",
      "DefaultRank - float64\n",
      "DefaultRank - float64\n",
      "DefaultRank - float64\n",
      "DefaultRank - float64\n",
      "DefaultRank - float64\n",
      "DefaultRank - float64\n",
      "DefaultRank - float64\n",
      "FirstRank - float64\n",
      "FirstRank - float64\n",
      "FirstRank - float64\n",
      "FirstRank - float64\n",
      "FirstRank - float64\n",
      "FirstRank - float64\n",
      "FirstRank - float64\n",
      "FirstRank - float64\n",
      "FirstRank - float64\n",
      "FirstRank - float64\n",
      "FirstRank - float64\n",
      "TotalActiveMinutesShift - float64\n",
      "TotalActiveMinutesShift - float64\n",
      "TotalActiveMinutesShift - float64\n",
      "TotalActiveMinutesShift - float64\n",
      "TotalActiveMinutesShift - float64\n",
      "TotalActiveMinutesShift - float64\n",
      "TotalActiveMinutesShift - float64\n",
      "TotalActiveMinutesShift - float64\n",
      "TotalActiveMinutesShift - float64\n",
      "TotalActiveMinutesShift - float64\n",
      "TotalActiveMinutesShift - float64\n",
      "TotalActiveMinutesDiff - float64\n",
      "TotalActiveMinutesDiff - float64\n",
      "TotalActiveMinutesDiff - float64\n",
      "TotalActiveMinutesDiff - float64\n",
      "TotalActiveMinutesDiff - float64\n",
      "TotalActiveMinutesDiff - float64\n",
      "TotalActiveMinutesDiff - float64\n",
      "TotalActiveMinutesDiff - float64\n",
      "TotalActiveMinutesDiff - float64\n",
      "TotalActiveMinutesDiff - float64\n",
      "TotalActiveMinutesDiff - float64\n",
      "TotalActiveMinutesCumSum - int64\n",
      "TotalActiveMinutesCumSum - int64\n",
      "TotalActiveMinutesCumSum - int64\n",
      "TotalActiveMinutesCumSum - int64\n",
      "TotalActiveMinutesCumSum - int64\n",
      "TotalActiveMinutesCumSum - int64\n",
      "TotalActiveMinutesCumSum - int64\n",
      "TotalActiveMinutesCumSum - int64\n",
      "TotalActiveMinutesCumSum - int64\n",
      "TotalActiveMinutesCumSum - int64\n",
      "TotalActiveMinutesCumSum - int64\n",
      "TotalActiveMinutesCumMax - int64\n",
      "TotalActiveMinutesCumMax - int64\n",
      "TotalActiveMinutesCumMax - int64\n",
      "TotalActiveMinutesCumMax - int64\n",
      "TotalActiveMinutesCumMax - int64\n",
      "TotalActiveMinutesCumMax - int64\n",
      "TotalActiveMinutesCumMax - int64\n",
      "TotalActiveMinutesCumMax - int64\n",
      "TotalActiveMinutesCumMax - int64\n",
      "TotalActiveMinutesCumMax - int64\n",
      "TotalActiveMinutesCumMax - int64\n",
      "TotalActiveMinutesRolling - float64\n",
      "TotalActiveMinutesRolling - float64\n",
      "TotalActiveMinutesRolling - float64\n",
      "TotalActiveMinutesRolling - float64\n",
      "TotalActiveMinutesRolling - float64\n",
      "TotalActiveMinutesRolling - float64\n",
      "TotalActiveMinutesRolling - float64\n",
      "TotalActiveMinutesRolling - float64\n",
      "TotalActiveMinutesRolling - float64\n",
      "TotalActiveMinutesRolling - float64\n",
      "TotalActiveMinutesRolling - float64\n",
      "TotalActiveMinutesClip - int64\n",
      "TotalActiveMinutesClip - int64\n",
      "TotalActiveMinutesClip - int64\n",
      "TotalActiveMinutesClip - int64\n",
      "TotalActiveMinutesClip - int64\n",
      "TotalActiveMinutesClip - int64\n",
      "TotalActiveMinutesClip - int64\n",
      "TotalActiveMinutesClip - int64\n",
      "TotalActiveMinutesClip - int64\n",
      "TotalActiveMinutesClip - int64\n",
      "TotalActiveMinutesClip - int64\n",
      "<<< Columns and data types\n",
      "<<< Columns and data types\n",
      "<<< Columns and data types\n",
      "<<< Columns and data types\n",
      "<<< Columns and data types\n",
      "<<< Columns and data types\n",
      "<<< Columns and data types\n",
      "<<< Columns and data types\n",
      "<<< Columns and data types\n",
      "<<< Columns and data types\n",
      "<<< Columns and data types\n"
     ]
    }
   ],
   "source": [
    "# log each column and dtype using logger\n",
    "logger.info('>>> Columns and data types')\n",
    "for col in df.columns:\n",
    "    logger.info(f'{col} - {df[col].dtype}')\n",
    "logger.info('<<< Columns and data types')\n",
    "\n"
   ]
  },
  {
   "cell_type": "markdown",
   "id": "4180b1a4de3bfa88",
   "metadata": {
    "collapsed": false
   },
   "source": [
    "## Get PK - Primary Key"
   ]
  },
  {
   "cell_type": "code",
   "execution_count": 413,
   "id": "2f280f07d3058424",
   "metadata": {
    "collapsed": false
   },
   "outputs": [
    {
     "name": "stderr",
     "output_type": "stream",
     "text": [
      "/var/folders/qr/sx5ty0117693911bc8b2y5hcz37mqb/T/ipykernel_84346/1299321573.py:2: FutureWarning: The parsing of 'now' in pd.to_datetime without `utc=True` is deprecated. In a future version, this will match Timestamp('now') and Timestamp.now()\n",
      "  logger.info(f'EXTRACT STARTED at {pd.to_datetime(\"now\")}')\n",
      "EXTRACT STARTED at 2024-04-19 15:25:35.677738\n",
      "EXTRACT STARTED at 2024-04-19 15:25:35.677738\n",
      "EXTRACT STARTED at 2024-04-19 15:25:35.677738\n",
      "EXTRACT STARTED at 2024-04-19 15:25:35.677738\n",
      "EXTRACT STARTED at 2024-04-19 15:25:35.677738\n",
      "EXTRACT STARTED at 2024-04-19 15:25:35.677738\n",
      "EXTRACT STARTED at 2024-04-19 15:25:35.677738\n",
      "EXTRACT STARTED at 2024-04-19 15:25:35.677738\n",
      "EXTRACT STARTED at 2024-04-19 15:25:35.677738\n",
      "EXTRACT STARTED at 2024-04-19 15:25:35.677738\n",
      "EXTRACT STARTED at 2024-04-19 15:25:35.677738\n"
     ]
    }
   ],
   "source": [
    "# Log start of extract\n",
    "logger.info(f'EXTRACT STARTED at {pd.to_datetime(\"now\")}')"
   ]
  },
  {
   "cell_type": "code",
   "execution_count": 414,
   "id": "e492a9e888e2e2d1",
   "metadata": {
    "collapsed": false,
    "ExecuteTime": {
     "end_time": "2024-04-19T15:25:35.741726Z",
     "start_time": "2024-04-19T15:25:35.728652Z"
    }
   },
   "outputs": [
    {
     "name": "stderr",
     "output_type": "stream",
     "text": [
      "PKs ['FirstRank']\n",
      "PKs ['FirstRank']\n",
      "PKs ['FirstRank']\n",
      "PKs ['FirstRank']\n",
      "PKs ['FirstRank']\n",
      "PKs ['FirstRank']\n",
      "PKs ['FirstRank']\n",
      "PKs ['FirstRank']\n",
      "PKs ['FirstRank']\n",
      "PKs ['FirstRank']\n",
      "PKs ['FirstRank']\n",
      "NOT PKs ['Id', 'Date', 'TotalSteps', 'TotalDistance', 'SedentaryMinutes', 'TotalActiveMinutes', 'Calories', 'yes_no', 'DenseRank', 'DefaultRank', 'TotalActiveMinutesShift', 'TotalActiveMinutesDiff', 'TotalActiveMinutesCumSum', 'TotalActiveMinutesCumMax', 'TotalActiveMinutesRolling', 'TotalActiveMinutesClip']\n",
      "NOT PKs ['Id', 'Date', 'TotalSteps', 'TotalDistance', 'SedentaryMinutes', 'TotalActiveMinutes', 'Calories', 'yes_no', 'DenseRank', 'DefaultRank', 'TotalActiveMinutesShift', 'TotalActiveMinutesDiff', 'TotalActiveMinutesCumSum', 'TotalActiveMinutesCumMax', 'TotalActiveMinutesRolling', 'TotalActiveMinutesClip']\n",
      "NOT PKs ['Id', 'Date', 'TotalSteps', 'TotalDistance', 'SedentaryMinutes', 'TotalActiveMinutes', 'Calories', 'yes_no', 'DenseRank', 'DefaultRank', 'TotalActiveMinutesShift', 'TotalActiveMinutesDiff', 'TotalActiveMinutesCumSum', 'TotalActiveMinutesCumMax', 'TotalActiveMinutesRolling', 'TotalActiveMinutesClip']\n",
      "NOT PKs ['Id', 'Date', 'TotalSteps', 'TotalDistance', 'SedentaryMinutes', 'TotalActiveMinutes', 'Calories', 'yes_no', 'DenseRank', 'DefaultRank', 'TotalActiveMinutesShift', 'TotalActiveMinutesDiff', 'TotalActiveMinutesCumSum', 'TotalActiveMinutesCumMax', 'TotalActiveMinutesRolling', 'TotalActiveMinutesClip']\n",
      "NOT PKs ['Id', 'Date', 'TotalSteps', 'TotalDistance', 'SedentaryMinutes', 'TotalActiveMinutes', 'Calories', 'yes_no', 'DenseRank', 'DefaultRank', 'TotalActiveMinutesShift', 'TotalActiveMinutesDiff', 'TotalActiveMinutesCumSum', 'TotalActiveMinutesCumMax', 'TotalActiveMinutesRolling', 'TotalActiveMinutesClip']\n",
      "NOT PKs ['Id', 'Date', 'TotalSteps', 'TotalDistance', 'SedentaryMinutes', 'TotalActiveMinutes', 'Calories', 'yes_no', 'DenseRank', 'DefaultRank', 'TotalActiveMinutesShift', 'TotalActiveMinutesDiff', 'TotalActiveMinutesCumSum', 'TotalActiveMinutesCumMax', 'TotalActiveMinutesRolling', 'TotalActiveMinutesClip']\n",
      "NOT PKs ['Id', 'Date', 'TotalSteps', 'TotalDistance', 'SedentaryMinutes', 'TotalActiveMinutes', 'Calories', 'yes_no', 'DenseRank', 'DefaultRank', 'TotalActiveMinutesShift', 'TotalActiveMinutesDiff', 'TotalActiveMinutesCumSum', 'TotalActiveMinutesCumMax', 'TotalActiveMinutesRolling', 'TotalActiveMinutesClip']\n",
      "NOT PKs ['Id', 'Date', 'TotalSteps', 'TotalDistance', 'SedentaryMinutes', 'TotalActiveMinutes', 'Calories', 'yes_no', 'DenseRank', 'DefaultRank', 'TotalActiveMinutesShift', 'TotalActiveMinutesDiff', 'TotalActiveMinutesCumSum', 'TotalActiveMinutesCumMax', 'TotalActiveMinutesRolling', 'TotalActiveMinutesClip']\n",
      "NOT PKs ['Id', 'Date', 'TotalSteps', 'TotalDistance', 'SedentaryMinutes', 'TotalActiveMinutes', 'Calories', 'yes_no', 'DenseRank', 'DefaultRank', 'TotalActiveMinutesShift', 'TotalActiveMinutesDiff', 'TotalActiveMinutesCumSum', 'TotalActiveMinutesCumMax', 'TotalActiveMinutesRolling', 'TotalActiveMinutesClip']\n",
      "NOT PKs ['Id', 'Date', 'TotalSteps', 'TotalDistance', 'SedentaryMinutes', 'TotalActiveMinutes', 'Calories', 'yes_no', 'DenseRank', 'DefaultRank', 'TotalActiveMinutesShift', 'TotalActiveMinutesDiff', 'TotalActiveMinutesCumSum', 'TotalActiveMinutesCumMax', 'TotalActiveMinutesRolling', 'TotalActiveMinutesClip']\n",
      "NOT PKs ['Id', 'Date', 'TotalSteps', 'TotalDistance', 'SedentaryMinutes', 'TotalActiveMinutes', 'Calories', 'yes_no', 'DenseRank', 'DefaultRank', 'TotalActiveMinutesShift', 'TotalActiveMinutesDiff', 'TotalActiveMinutesCumSum', 'TotalActiveMinutesCumMax', 'TotalActiveMinutesRolling', 'TotalActiveMinutesClip']\n"
     ]
    },
    {
     "data": {
      "text/plain": "           Id         Date  TotalSteps  TotalDistance  SedentaryMinutes  \\\n0  6117666160   2016-04-20     19542.0      15.010000             579.0   \n1  5577150313  2016-04-177     12231.0       9.140000             525.0   \n2  8877689391   2016-04-16     29326.0      25.290001             888.0   \n3  5577150313   2016-05-01     13368.0       9.990000             499.0   \n4  5577150313   2016-04-30     12363.0       9.240000             621.0   \n\n   TotalActiveMinutes  Calories  yes_no  DenseRank  DefaultRank  FirstRank  \\\n0                 324      4900       1      264.0        732.0      729.0   \n1                 396      4552       0      325.0        890.0      889.0   \n2                 552      4547       1      365.0        944.0      944.0   \n3                 444      4546       0      347.0        926.0      926.0   \n4                 415      4501       1      338.0        913.0      913.0   \n\n   TotalActiveMinutesShift  TotalActiveMinutesDiff  TotalActiveMinutesCumSum  \\\n0                      NaN                     NaN                       324   \n1                    324.0                    72.0                       720   \n2                    396.0                   156.0                      1272   \n3                    552.0                  -108.0                      1716   \n4                    444.0                   -29.0                      2131   \n\n   TotalActiveMinutesCumMax  TotalActiveMinutesRolling  TotalActiveMinutesClip  \n0                       324                        NaN                     100  \n1                       396                      360.0                     100  \n2                       552                      474.0                     100  \n3                       552                      498.0                     100  \n4                       552                      429.5                     100  ",
      "text/html": "<div>\n<style scoped>\n    .dataframe tbody tr th:only-of-type {\n        vertical-align: middle;\n    }\n\n    .dataframe tbody tr th {\n        vertical-align: top;\n    }\n\n    .dataframe thead th {\n        text-align: right;\n    }\n</style>\n<table border=\"1\" class=\"dataframe\">\n  <thead>\n    <tr style=\"text-align: right;\">\n      <th></th>\n      <th>Id</th>\n      <th>Date</th>\n      <th>TotalSteps</th>\n      <th>TotalDistance</th>\n      <th>SedentaryMinutes</th>\n      <th>TotalActiveMinutes</th>\n      <th>Calories</th>\n      <th>yes_no</th>\n      <th>DenseRank</th>\n      <th>DefaultRank</th>\n      <th>FirstRank</th>\n      <th>TotalActiveMinutesShift</th>\n      <th>TotalActiveMinutesDiff</th>\n      <th>TotalActiveMinutesCumSum</th>\n      <th>TotalActiveMinutesCumMax</th>\n      <th>TotalActiveMinutesRolling</th>\n      <th>TotalActiveMinutesClip</th>\n    </tr>\n  </thead>\n  <tbody>\n    <tr>\n      <th>0</th>\n      <td>6117666160</td>\n      <td>2016-04-20</td>\n      <td>19542.0</td>\n      <td>15.010000</td>\n      <td>579.0</td>\n      <td>324</td>\n      <td>4900</td>\n      <td>1</td>\n      <td>264.0</td>\n      <td>732.0</td>\n      <td>729.0</td>\n      <td>NaN</td>\n      <td>NaN</td>\n      <td>324</td>\n      <td>324</td>\n      <td>NaN</td>\n      <td>100</td>\n    </tr>\n    <tr>\n      <th>1</th>\n      <td>5577150313</td>\n      <td>2016-04-177</td>\n      <td>12231.0</td>\n      <td>9.140000</td>\n      <td>525.0</td>\n      <td>396</td>\n      <td>4552</td>\n      <td>0</td>\n      <td>325.0</td>\n      <td>890.0</td>\n      <td>889.0</td>\n      <td>324.0</td>\n      <td>72.0</td>\n      <td>720</td>\n      <td>396</td>\n      <td>360.0</td>\n      <td>100</td>\n    </tr>\n    <tr>\n      <th>2</th>\n      <td>8877689391</td>\n      <td>2016-04-16</td>\n      <td>29326.0</td>\n      <td>25.290001</td>\n      <td>888.0</td>\n      <td>552</td>\n      <td>4547</td>\n      <td>1</td>\n      <td>365.0</td>\n      <td>944.0</td>\n      <td>944.0</td>\n      <td>396.0</td>\n      <td>156.0</td>\n      <td>1272</td>\n      <td>552</td>\n      <td>474.0</td>\n      <td>100</td>\n    </tr>\n    <tr>\n      <th>3</th>\n      <td>5577150313</td>\n      <td>2016-05-01</td>\n      <td>13368.0</td>\n      <td>9.990000</td>\n      <td>499.0</td>\n      <td>444</td>\n      <td>4546</td>\n      <td>0</td>\n      <td>347.0</td>\n      <td>926.0</td>\n      <td>926.0</td>\n      <td>552.0</td>\n      <td>-108.0</td>\n      <td>1716</td>\n      <td>552</td>\n      <td>498.0</td>\n      <td>100</td>\n    </tr>\n    <tr>\n      <th>4</th>\n      <td>5577150313</td>\n      <td>2016-04-30</td>\n      <td>12363.0</td>\n      <td>9.240000</td>\n      <td>621.0</td>\n      <td>415</td>\n      <td>4501</td>\n      <td>1</td>\n      <td>338.0</td>\n      <td>913.0</td>\n      <td>913.0</td>\n      <td>444.0</td>\n      <td>-29.0</td>\n      <td>2131</td>\n      <td>552</td>\n      <td>429.5</td>\n      <td>100</td>\n    </tr>\n  </tbody>\n</table>\n</div>"
     },
     "execution_count": 414,
     "metadata": {},
     "output_type": "execute_result"
    }
   ],
   "source": [
    "\n",
    "# check for primary key candidate by iterating over each column\n",
    "pk_candidate = [col for col in df.columns if df[col].nunique() == _df_row_count]  # ⭐️\n",
    "pk_not_candidate = [col for col in df.columns if df[col].nunique() != _df_row_count]\n",
    "\n",
    "# if no primary key candidate, create a surrogate key\n",
    "if len(pk_candidate) == 0:\n",
    "    print('Adding a surrogate key')\n",
    "    df.insert(0, '_id', range(1, 1 + _df_row_count))\n",
    "\n",
    "logger.info(f'PKs {pk_candidate}')\n",
    "logger.info(f'NOT PKs {pk_not_candidate}')\n",
    "df.head()"
   ]
  },
  {
   "cell_type": "markdown",
   "id": "3bb13e35d369270b",
   "metadata": {
    "collapsed": false
   },
   "source": [
    "## Check for Data Quality\n",
    "\n",
    "- 1. Invalid data types\n",
    "- 2. Missing Values: `df[df.isnull().any(axis=1)]`\n",
    "- 3. Duplicates"
   ]
  },
  {
   "cell_type": "code",
   "execution_count": 415,
   "id": "3e443c208aee6e5",
   "metadata": {
    "collapsed": false,
    "ExecuteTime": {
     "end_time": "2024-04-19T15:25:36.153601Z",
     "start_time": "2024-04-19T15:25:36.152016Z"
    }
   },
   "outputs": [],
   "source": [
    "# empty df_dq_issues\n",
    "# df_dq_issues = df.head(0)"
   ]
  },
  {
   "cell_type": "markdown",
   "id": "c78cd6857f09e05e",
   "metadata": {
    "collapsed": false
   },
   "source": [
    "### Invalid Data Types"
   ]
  },
  {
   "cell_type": "code",
   "execution_count": 416,
   "id": "6fecd191e50c932",
   "metadata": {
    "collapsed": false,
    "ExecuteTime": {
     "end_time": "2024-04-19T15:25:36.378422Z",
     "start_time": "2024-04-19T15:25:36.376524Z"
    }
   },
   "outputs": [],
   "source": [
    "# validate that Date is a datetime\n",
    "\n",
    "# df.astype({'Date': 'datetime64[ns]'})\n"
   ]
  },
  {
   "cell_type": "code",
   "execution_count": 417,
   "id": "2825cf09d5d4b3d6",
   "metadata": {
    "collapsed": false,
    "ExecuteTime": {
     "end_time": "2024-04-19T15:25:36.570151Z",
     "start_time": "2024-04-19T15:25:36.540874Z"
    }
   },
   "outputs": [
    {
     "name": "stderr",
     "output_type": "stream",
     "text": [
      "DQ::records with invalid dates [1, 8, 943]\n",
      "DQ::records with invalid dates [1, 8, 943]\n",
      "DQ::records with invalid dates [1, 8, 943]\n",
      "DQ::records with invalid dates [1, 8, 943]\n",
      "DQ::records with invalid dates [1, 8, 943]\n",
      "DQ::records with invalid dates [1, 8, 943]\n",
      "DQ::records with invalid dates [1, 8, 943]\n",
      "DQ::records with invalid dates [1, 8, 943]\n",
      "DQ::records with invalid dates [1, 8, 943]\n",
      "DQ::records with invalid dates [1, 8, 943]\n",
      "DQ::records with invalid dates [1, 8, 943]\n"
     ]
    },
    {
     "name": "stdout",
     "output_type": "stream",
     "text": [
      "[1, 8, 943]\n"
     ]
    },
    {
     "data": {
      "text/plain": "       _dq_reason          Id         Date  TotalSteps  TotalDistance  \\\n1    Invalid date  5577150313  2016-04-177     12231.0           9.14   \n8    Invalid date  8378563200  2016-04-211     15148.0          12.01   \n943  Invalid date  5577150313  2016-04-177     12231.0           9.14   \n\n     SedentaryMinutes  TotalActiveMinutes  Calories  yes_no  DenseRank  \\\n1               525.0                 396      4552       0      325.0   \n8               677.0                 298      4236       1      240.0   \n943             525.0                 396      4552       0      325.0   \n\n     DefaultRank  FirstRank  TotalActiveMinutesShift  TotalActiveMinutesDiff  \\\n1          890.0      889.0                    324.0                    72.0   \n8          646.0      644.0                    398.0                  -100.0   \n943        890.0      891.0                    233.0                   163.0   \n\n     TotalActiveMinutesCumSum  TotalActiveMinutesCumMax  \\\n1                         720                       396   \n8                        3594                       552   \n943                    215012                       552   \n\n     TotalActiveMinutesRolling  TotalActiveMinutesClip  \n1                        360.0                     100  \n8                        348.0                     100  \n943                      314.5                     100  ",
      "text/html": "<div>\n<style scoped>\n    .dataframe tbody tr th:only-of-type {\n        vertical-align: middle;\n    }\n\n    .dataframe tbody tr th {\n        vertical-align: top;\n    }\n\n    .dataframe thead th {\n        text-align: right;\n    }\n</style>\n<table border=\"1\" class=\"dataframe\">\n  <thead>\n    <tr style=\"text-align: right;\">\n      <th></th>\n      <th>_dq_reason</th>\n      <th>Id</th>\n      <th>Date</th>\n      <th>TotalSteps</th>\n      <th>TotalDistance</th>\n      <th>SedentaryMinutes</th>\n      <th>TotalActiveMinutes</th>\n      <th>Calories</th>\n      <th>yes_no</th>\n      <th>DenseRank</th>\n      <th>DefaultRank</th>\n      <th>FirstRank</th>\n      <th>TotalActiveMinutesShift</th>\n      <th>TotalActiveMinutesDiff</th>\n      <th>TotalActiveMinutesCumSum</th>\n      <th>TotalActiveMinutesCumMax</th>\n      <th>TotalActiveMinutesRolling</th>\n      <th>TotalActiveMinutesClip</th>\n    </tr>\n  </thead>\n  <tbody>\n    <tr>\n      <th>1</th>\n      <td>Invalid date</td>\n      <td>5577150313</td>\n      <td>2016-04-177</td>\n      <td>12231.0</td>\n      <td>9.14</td>\n      <td>525.0</td>\n      <td>396</td>\n      <td>4552</td>\n      <td>0</td>\n      <td>325.0</td>\n      <td>890.0</td>\n      <td>889.0</td>\n      <td>324.0</td>\n      <td>72.0</td>\n      <td>720</td>\n      <td>396</td>\n      <td>360.0</td>\n      <td>100</td>\n    </tr>\n    <tr>\n      <th>8</th>\n      <td>Invalid date</td>\n      <td>8378563200</td>\n      <td>2016-04-211</td>\n      <td>15148.0</td>\n      <td>12.01</td>\n      <td>677.0</td>\n      <td>298</td>\n      <td>4236</td>\n      <td>1</td>\n      <td>240.0</td>\n      <td>646.0</td>\n      <td>644.0</td>\n      <td>398.0</td>\n      <td>-100.0</td>\n      <td>3594</td>\n      <td>552</td>\n      <td>348.0</td>\n      <td>100</td>\n    </tr>\n    <tr>\n      <th>943</th>\n      <td>Invalid date</td>\n      <td>5577150313</td>\n      <td>2016-04-177</td>\n      <td>12231.0</td>\n      <td>9.14</td>\n      <td>525.0</td>\n      <td>396</td>\n      <td>4552</td>\n      <td>0</td>\n      <td>325.0</td>\n      <td>890.0</td>\n      <td>891.0</td>\n      <td>233.0</td>\n      <td>163.0</td>\n      <td>215012</td>\n      <td>552</td>\n      <td>314.5</td>\n      <td>100</td>\n    </tr>\n  </tbody>\n</table>\n</div>"
     },
     "execution_count": 417,
     "metadata": {},
     "output_type": "execute_result"
    }
   ],
   "source": [
    "# check for invalid dates\n",
    "def check_date_cast(column: pd.Series):\n",
    "    try:\n",
    "        pd.to_datetime(column)\n",
    "        return False\n",
    "    except ValueError:\n",
    "        return True\n",
    "\n",
    "\n",
    "invalid_dates = df['Date'].apply(check_date_cast)  # apply function to each row\n",
    "df_invalid_dates = df[invalid_dates]  # apply boolean indexing\n",
    "df_invalid_dates.insert(0, df_dq_column_name, 'Invalid date')\n",
    "\n",
    "print(df_invalid_dates.index.to_list())\n",
    "logger.info(f'DQ::records with invalid dates {df_invalid_dates.index.to_list()}')\n",
    "df_invalid_dates"
   ]
  },
  {
   "cell_type": "code",
   "execution_count": 418,
   "id": "195ee70fd334cf4c",
   "metadata": {
    "collapsed": false,
    "ExecuteTime": {
     "end_time": "2024-04-19T15:25:36.599095Z",
     "start_time": "2024-04-19T15:25:36.592565Z"
    }
   },
   "outputs": [
    {
     "data": {
      "text/plain": "       _dq_reason          Id         Date  TotalSteps  TotalDistance  \\\n1    Invalid date  5577150313  2016-04-177     12231.0           9.14   \n8    Invalid date  8378563200  2016-04-211     15148.0          12.01   \n943  Invalid date  5577150313  2016-04-177     12231.0           9.14   \n\n     SedentaryMinutes  TotalActiveMinutes  Calories  yes_no  DenseRank  \\\n1               525.0                 396      4552       0      325.0   \n8               677.0                 298      4236       1      240.0   \n943             525.0                 396      4552       0      325.0   \n\n     DefaultRank  FirstRank  TotalActiveMinutesShift  TotalActiveMinutesDiff  \\\n1          890.0      889.0                    324.0                    72.0   \n8          646.0      644.0                    398.0                  -100.0   \n943        890.0      891.0                    233.0                   163.0   \n\n     TotalActiveMinutesCumSum  TotalActiveMinutesCumMax  \\\n1                         720                       396   \n8                        3594                       552   \n943                    215012                       552   \n\n     TotalActiveMinutesRolling  TotalActiveMinutesClip  \n1                        360.0                     100  \n8                        348.0                     100  \n943                      314.5                     100  ",
      "text/html": "<div>\n<style scoped>\n    .dataframe tbody tr th:only-of-type {\n        vertical-align: middle;\n    }\n\n    .dataframe tbody tr th {\n        vertical-align: top;\n    }\n\n    .dataframe thead th {\n        text-align: right;\n    }\n</style>\n<table border=\"1\" class=\"dataframe\">\n  <thead>\n    <tr style=\"text-align: right;\">\n      <th></th>\n      <th>_dq_reason</th>\n      <th>Id</th>\n      <th>Date</th>\n      <th>TotalSteps</th>\n      <th>TotalDistance</th>\n      <th>SedentaryMinutes</th>\n      <th>TotalActiveMinutes</th>\n      <th>Calories</th>\n      <th>yes_no</th>\n      <th>DenseRank</th>\n      <th>DefaultRank</th>\n      <th>FirstRank</th>\n      <th>TotalActiveMinutesShift</th>\n      <th>TotalActiveMinutesDiff</th>\n      <th>TotalActiveMinutesCumSum</th>\n      <th>TotalActiveMinutesCumMax</th>\n      <th>TotalActiveMinutesRolling</th>\n      <th>TotalActiveMinutesClip</th>\n    </tr>\n  </thead>\n  <tbody>\n    <tr>\n      <th>1</th>\n      <td>Invalid date</td>\n      <td>5577150313</td>\n      <td>2016-04-177</td>\n      <td>12231.0</td>\n      <td>9.14</td>\n      <td>525.0</td>\n      <td>396</td>\n      <td>4552</td>\n      <td>0</td>\n      <td>325.0</td>\n      <td>890.0</td>\n      <td>889.0</td>\n      <td>324.0</td>\n      <td>72.0</td>\n      <td>720</td>\n      <td>396</td>\n      <td>360.0</td>\n      <td>100</td>\n    </tr>\n    <tr>\n      <th>8</th>\n      <td>Invalid date</td>\n      <td>8378563200</td>\n      <td>2016-04-211</td>\n      <td>15148.0</td>\n      <td>12.01</td>\n      <td>677.0</td>\n      <td>298</td>\n      <td>4236</td>\n      <td>1</td>\n      <td>240.0</td>\n      <td>646.0</td>\n      <td>644.0</td>\n      <td>398.0</td>\n      <td>-100.0</td>\n      <td>3594</td>\n      <td>552</td>\n      <td>348.0</td>\n      <td>100</td>\n    </tr>\n    <tr>\n      <th>943</th>\n      <td>Invalid date</td>\n      <td>5577150313</td>\n      <td>2016-04-177</td>\n      <td>12231.0</td>\n      <td>9.14</td>\n      <td>525.0</td>\n      <td>396</td>\n      <td>4552</td>\n      <td>0</td>\n      <td>325.0</td>\n      <td>890.0</td>\n      <td>891.0</td>\n      <td>233.0</td>\n      <td>163.0</td>\n      <td>215012</td>\n      <td>552</td>\n      <td>314.5</td>\n      <td>100</td>\n    </tr>\n  </tbody>\n</table>\n</div>"
     },
     "execution_count": 418,
     "metadata": {},
     "output_type": "execute_result"
    }
   ],
   "source": [
    "# add invalid dates to df_dq_issues and update _dq_reason\n",
    "df_dq_issues = pd.concat([df_invalid_dates, df_dq_issues])\n",
    "df_dq_issues\n"
   ]
  },
  {
   "cell_type": "markdown",
   "id": "235829e73d6b1795",
   "metadata": {
    "collapsed": false
   },
   "source": [
    "### Missing Values\n",
    "\n",
    "Breakdown:  \n",
    "- `df.isnull().any(axis=1)` returns a *boolean Series* that is True for each row in df that contains at least one null value and False otherwise. The axis=1 parameter means that the operation is performed across columns (i.e., for each row).    \n",
    "- Finally, `df[df.isnull().any(axis=1)]` uses boolean indexing to select only the rows in df for which the Series is True. This results in a new DataFrame that only includes the rows from df that do not have any null values.\n",
    "- `df[df.isnull().any(axis=1)].index.to_list()` returns the index as a list\n",
    "- Once stored in a list e.g. `idx_null_recs` then use it `df.loc[_idx_null_recs]` to return the rows with missing values\n",
    "\n",
    "NB. Could use the inverse `df[~df.isnull().any(axis=1)]` to get rows without missing values"
   ]
  },
  {
   "cell_type": "markdown",
   "id": "164651665dc3a342",
   "metadata": {
    "collapsed": false
   },
   "source": [
    "#### DropNA"
   ]
  },
  {
   "cell_type": "code",
   "execution_count": 419,
   "id": "c00664b78db34f07",
   "metadata": {
    "collapsed": false,
    "ExecuteTime": {
     "end_time": "2024-04-19T15:25:36.668482Z",
     "start_time": "2024-04-19T15:25:36.659799Z"
    }
   },
   "outputs": [
    {
     "data": {
      "text/plain": "             Id        Date TotalSteps  TotalDistance SedentaryMinutes  \\\n0    6117666160  2016-04-20    19542.0          15.01            579.0   \n9    8378563200  2016-04-14       xxxx          10.56            699.0   \n461  1503960366  2016-04-27       xxxx          12.21           1108.0   \n936  1503960366  2016-05-12        0.0           0.00             xxxx   \n940  1503960366  2016-04-27       xxxx          12.21           1108.0   \n\n     TotalActiveMinutes  Calories  yes_no  DenseRank  DefaultRank  FirstRank  \\\n0                   324      4900       1      264.0        732.0      729.0   \n9                   318      4163       0      259.0        711.0      708.0   \n461                 332      2159       0      272.0        758.5      759.0   \n936                   0         0       1        1.0         42.0       80.0   \n940                 332      2159       1      272.0        758.5      760.0   \n\n    TotalActiveMinutesShift TotalActiveMinutesDiff  TotalActiveMinutesCumSum  \\\n0                      xxxx                   xxxx                       324   \n9                     298.0                   20.0                      3912   \n461                   370.0                  -38.0                    126802   \n936                    13.0                  -13.0                    213890   \n940                     0.0                  332.0                    214222   \n\n     TotalActiveMinutesCumMax TotalActiveMinutesRolling  \\\n0                         324                      xxxx   \n9                         552                     308.0   \n461                       552                     351.0   \n936                       552                       6.5   \n940                       552                     166.0   \n\n     TotalActiveMinutesClip  \n0                       100  \n9                       100  \n461                     100  \n936                       0  \n940                     100  ",
      "text/html": "<div>\n<style scoped>\n    .dataframe tbody tr th:only-of-type {\n        vertical-align: middle;\n    }\n\n    .dataframe tbody tr th {\n        vertical-align: top;\n    }\n\n    .dataframe thead th {\n        text-align: right;\n    }\n</style>\n<table border=\"1\" class=\"dataframe\">\n  <thead>\n    <tr style=\"text-align: right;\">\n      <th></th>\n      <th>Id</th>\n      <th>Date</th>\n      <th>TotalSteps</th>\n      <th>TotalDistance</th>\n      <th>SedentaryMinutes</th>\n      <th>TotalActiveMinutes</th>\n      <th>Calories</th>\n      <th>yes_no</th>\n      <th>DenseRank</th>\n      <th>DefaultRank</th>\n      <th>FirstRank</th>\n      <th>TotalActiveMinutesShift</th>\n      <th>TotalActiveMinutesDiff</th>\n      <th>TotalActiveMinutesCumSum</th>\n      <th>TotalActiveMinutesCumMax</th>\n      <th>TotalActiveMinutesRolling</th>\n      <th>TotalActiveMinutesClip</th>\n    </tr>\n  </thead>\n  <tbody>\n    <tr>\n      <th>0</th>\n      <td>6117666160</td>\n      <td>2016-04-20</td>\n      <td>19542.0</td>\n      <td>15.01</td>\n      <td>579.0</td>\n      <td>324</td>\n      <td>4900</td>\n      <td>1</td>\n      <td>264.0</td>\n      <td>732.0</td>\n      <td>729.0</td>\n      <td>xxxx</td>\n      <td>xxxx</td>\n      <td>324</td>\n      <td>324</td>\n      <td>xxxx</td>\n      <td>100</td>\n    </tr>\n    <tr>\n      <th>9</th>\n      <td>8378563200</td>\n      <td>2016-04-14</td>\n      <td>xxxx</td>\n      <td>10.56</td>\n      <td>699.0</td>\n      <td>318</td>\n      <td>4163</td>\n      <td>0</td>\n      <td>259.0</td>\n      <td>711.0</td>\n      <td>708.0</td>\n      <td>298.0</td>\n      <td>20.0</td>\n      <td>3912</td>\n      <td>552</td>\n      <td>308.0</td>\n      <td>100</td>\n    </tr>\n    <tr>\n      <th>461</th>\n      <td>1503960366</td>\n      <td>2016-04-27</td>\n      <td>xxxx</td>\n      <td>12.21</td>\n      <td>1108.0</td>\n      <td>332</td>\n      <td>2159</td>\n      <td>0</td>\n      <td>272.0</td>\n      <td>758.5</td>\n      <td>759.0</td>\n      <td>370.0</td>\n      <td>-38.0</td>\n      <td>126802</td>\n      <td>552</td>\n      <td>351.0</td>\n      <td>100</td>\n    </tr>\n    <tr>\n      <th>936</th>\n      <td>1503960366</td>\n      <td>2016-05-12</td>\n      <td>0.0</td>\n      <td>0.00</td>\n      <td>xxxx</td>\n      <td>0</td>\n      <td>0</td>\n      <td>1</td>\n      <td>1.0</td>\n      <td>42.0</td>\n      <td>80.0</td>\n      <td>13.0</td>\n      <td>-13.0</td>\n      <td>213890</td>\n      <td>552</td>\n      <td>6.5</td>\n      <td>0</td>\n    </tr>\n    <tr>\n      <th>940</th>\n      <td>1503960366</td>\n      <td>2016-04-27</td>\n      <td>xxxx</td>\n      <td>12.21</td>\n      <td>1108.0</td>\n      <td>332</td>\n      <td>2159</td>\n      <td>1</td>\n      <td>272.0</td>\n      <td>758.5</td>\n      <td>760.0</td>\n      <td>0.0</td>\n      <td>332.0</td>\n      <td>214222</td>\n      <td>552</td>\n      <td>166.0</td>\n      <td>100</td>\n    </tr>\n  </tbody>\n</table>\n</div>"
     },
     "execution_count": 419,
     "metadata": {},
     "output_type": "execute_result"
    }
   ],
   "source": [
    "# drop rows with missing values\n",
    "df_nan = df.dropna()\n",
    "df_nan.shape\n",
    "\n",
    "# instead fill missing values with 'XXX' if string or 0 if numeric\n",
    "df.fillna('xxxx', inplace=True)\n",
    "\n",
    "# check where any column has 0 in it\n",
    "df[df.eq('xxxx').any(axis=1)]\n",
    "\n",
    "\n",
    "\n"
   ]
  },
  {
   "cell_type": "markdown",
   "id": "261c94513323d5c6",
   "metadata": {
    "collapsed": false
   },
   "source": [
    "#### Instead trap missing values"
   ]
  },
  {
   "cell_type": "code",
   "execution_count": 420,
   "id": "831e1a6450ecaf1f",
   "metadata": {
    "collapsed": false,
    "ExecuteTime": {
     "end_time": "2024-04-19T15:25:36.766991Z",
     "start_time": "2024-04-19T15:25:36.756608Z"
    }
   },
   "outputs": [
    {
     "name": "stderr",
     "output_type": "stream",
     "text": [
      "DQ::Records with missing NaN values: []\n",
      "DQ::Records with missing NaN values: []\n",
      "DQ::Records with missing NaN values: []\n",
      "DQ::Records with missing NaN values: []\n",
      "DQ::Records with missing NaN values: []\n",
      "DQ::Records with missing NaN values: []\n",
      "DQ::Records with missing NaN values: []\n",
      "DQ::Records with missing NaN values: []\n",
      "DQ::Records with missing NaN values: []\n",
      "DQ::Records with missing NaN values: []\n",
      "DQ::Records with missing NaN values: []\n"
     ]
    },
    {
     "data": {
      "text/plain": "       _dq_reason          Id         Date  TotalSteps  TotalDistance  \\\n1    Invalid date  5577150313  2016-04-177     12231.0           9.14   \n8    Invalid date  8378563200  2016-04-211     15148.0          12.01   \n943  Invalid date  5577150313  2016-04-177     12231.0           9.14   \n\n     SedentaryMinutes  TotalActiveMinutes  Calories  yes_no  DenseRank  \\\n1               525.0                 396      4552       0      325.0   \n8               677.0                 298      4236       1      240.0   \n943             525.0                 396      4552       0      325.0   \n\n     DefaultRank  FirstRank  TotalActiveMinutesShift  TotalActiveMinutesDiff  \\\n1          890.0      889.0                    324.0                    72.0   \n8          646.0      644.0                    398.0                  -100.0   \n943        890.0      891.0                    233.0                   163.0   \n\n     TotalActiveMinutesCumSum  TotalActiveMinutesCumMax  \\\n1                         720                       396   \n8                        3594                       552   \n943                    215012                       552   \n\n     TotalActiveMinutesRolling  TotalActiveMinutesClip  \n1                        360.0                     100  \n8                        348.0                     100  \n943                      314.5                     100  ",
      "text/html": "<div>\n<style scoped>\n    .dataframe tbody tr th:only-of-type {\n        vertical-align: middle;\n    }\n\n    .dataframe tbody tr th {\n        vertical-align: top;\n    }\n\n    .dataframe thead th {\n        text-align: right;\n    }\n</style>\n<table border=\"1\" class=\"dataframe\">\n  <thead>\n    <tr style=\"text-align: right;\">\n      <th></th>\n      <th>_dq_reason</th>\n      <th>Id</th>\n      <th>Date</th>\n      <th>TotalSteps</th>\n      <th>TotalDistance</th>\n      <th>SedentaryMinutes</th>\n      <th>TotalActiveMinutes</th>\n      <th>Calories</th>\n      <th>yes_no</th>\n      <th>DenseRank</th>\n      <th>DefaultRank</th>\n      <th>FirstRank</th>\n      <th>TotalActiveMinutesShift</th>\n      <th>TotalActiveMinutesDiff</th>\n      <th>TotalActiveMinutesCumSum</th>\n      <th>TotalActiveMinutesCumMax</th>\n      <th>TotalActiveMinutesRolling</th>\n      <th>TotalActiveMinutesClip</th>\n    </tr>\n  </thead>\n  <tbody>\n    <tr>\n      <th>1</th>\n      <td>Invalid date</td>\n      <td>5577150313</td>\n      <td>2016-04-177</td>\n      <td>12231.0</td>\n      <td>9.14</td>\n      <td>525.0</td>\n      <td>396</td>\n      <td>4552</td>\n      <td>0</td>\n      <td>325.0</td>\n      <td>890.0</td>\n      <td>889.0</td>\n      <td>324.0</td>\n      <td>72.0</td>\n      <td>720</td>\n      <td>396</td>\n      <td>360.0</td>\n      <td>100</td>\n    </tr>\n    <tr>\n      <th>8</th>\n      <td>Invalid date</td>\n      <td>8378563200</td>\n      <td>2016-04-211</td>\n      <td>15148.0</td>\n      <td>12.01</td>\n      <td>677.0</td>\n      <td>298</td>\n      <td>4236</td>\n      <td>1</td>\n      <td>240.0</td>\n      <td>646.0</td>\n      <td>644.0</td>\n      <td>398.0</td>\n      <td>-100.0</td>\n      <td>3594</td>\n      <td>552</td>\n      <td>348.0</td>\n      <td>100</td>\n    </tr>\n    <tr>\n      <th>943</th>\n      <td>Invalid date</td>\n      <td>5577150313</td>\n      <td>2016-04-177</td>\n      <td>12231.0</td>\n      <td>9.14</td>\n      <td>525.0</td>\n      <td>396</td>\n      <td>4552</td>\n      <td>0</td>\n      <td>325.0</td>\n      <td>890.0</td>\n      <td>891.0</td>\n      <td>233.0</td>\n      <td>163.0</td>\n      <td>215012</td>\n      <td>552</td>\n      <td>314.5</td>\n      <td>100</td>\n    </tr>\n  </tbody>\n</table>\n</div>"
     },
     "execution_count": 420,
     "metadata": {},
     "output_type": "execute_result"
    }
   ],
   "source": [
    "# create a dataframe to store rows with missing values for those columns in null_cols\n",
    "missing_values = df[df.isnull().any(axis=1)]  # see above explanation\n",
    "missing_values.insert(0, df_dq_column_name, 'Missing values')\n",
    "# missing_values.index.to_list()\n",
    "\n",
    "# add missing values to df_dq_issues\n",
    "df_dq_issues = pd.concat([df_dq_issues, missing_values])\n",
    "\n",
    "logger.info(f'DQ::Records with missing NaN values: {missing_values.index.to_list()}')\n",
    "df_dq_issues"
   ]
  },
  {
   "cell_type": "markdown",
   "id": "c887137a09bba5a6",
   "metadata": {
    "collapsed": false
   },
   "source": [
    "### Duplicates\n",
    "\n",
    "- ignore any derived columns that begin with `_`\n",
    "- `df.loc[:, df.columns != '_id'].duplicated(keep=False)` returns a boolean Series that is True for every row that is a duplicate. \n",
    "- By using this Series to index into df, we get a new DataFrame that only contains the duplicate rows. \n",
    "- The `keep=False` argument means that all duplicates are marked as True, not just the second and subsequent occurrences.\n"
   ]
  },
  {
   "cell_type": "code",
   "outputs": [
    {
     "data": {
      "text/plain": "0      False\n1      False\n2      False\n3      False\n4      False\n       ...  \n939    False\n940    False\n941    False\n942    False\n943    False\nLength: 944, dtype: bool"
     },
     "execution_count": 421,
     "metadata": {},
     "output_type": "execute_result"
    }
   ],
   "source": [
    "df.duplicated(keep=False)"
   ],
   "metadata": {
    "collapsed": false,
    "ExecuteTime": {
     "end_time": "2024-04-19T15:25:41.887741Z",
     "start_time": "2024-04-19T15:25:41.881830Z"
    }
   },
   "id": "f655c2df30ad9b5e",
   "execution_count": 421
  },
  {
   "cell_type": "code",
   "execution_count": null,
   "id": "8c3f14da7155d5f2",
   "metadata": {
    "collapsed": false
   },
   "outputs": [],
   "source": [
    "# check for duplicates and ignore column: _id\n",
    "columns_to_sort = [col for col in df.columns if col != '_id']  # ⭐️\n",
    "\n",
    "df_dq_issue_duplicated = df[df.loc[:, df.columns != '_id'].duplicated(keep=False)].sort_values(\n",
    "    by=list(columns_to_sort)).copy()\n",
    "df_dq_issue_duplicated.insert(0, df_dq_column_name, 'Duplicated rows')\n",
    "\n",
    "# add df_dq_issue_duplicated to df_dq_issues\n",
    "df_dq_issues = pd.concat([df_dq_issues, df_dq_issue_duplicated])  # ⭐️\n",
    "\n",
    "logger.info(f'DQ::Records with duplicates: {df_dq_issue_duplicated.index.to_list()}')\n",
    "df_dq_issues"
   ]
  },
  {
   "cell_type": "markdown",
   "id": "9a2aee6b4b659ee5",
   "metadata": {
    "collapsed": false
   },
   "source": [
    "## Extract Clean DF\n",
    "\n",
    "- Remove rows from df using df_dq_issues \n",
    "- Group by example: `df_dq_issues.groupby(by='_dq_reason')['_dq_reason'].count()`\n",
    "- Outer join example: `df_temp = pd.merge(df, df_dq_issues, how='outer', indicator=True)`\n",
    "- Get distinct values: `df_dq_issues['_id'].unique()`"
   ]
  },
  {
   "cell_type": "markdown",
   "id": "848f20ebd031c9a7",
   "metadata": {
    "collapsed": false
   },
   "source": [
    "### DQ Report"
   ]
  },
  {
   "cell_type": "code",
   "execution_count": null,
   "id": "27151c05b0a0dec2",
   "metadata": {
    "collapsed": false
   },
   "outputs": [],
   "source": [
    "# how many per DQ group\n",
    "df_dq_issues.groupby(by='_dq_reason')['_dq_reason'].count()\n",
    "_dq_reason_count = df_dq_issues.groupby(by='_dq_reason')['_dq_reason'].count()\n",
    "\n",
    "# log that per row\n",
    "for reason, count in _dq_reason_count.items():\n",
    "    logger.info(f'DQ::{reason}::{count}')\n"
   ]
  },
  {
   "cell_type": "markdown",
   "id": "f947fcc71de0160e",
   "metadata": {
    "collapsed": false
   },
   "source": [
    "### Build Clean DF"
   ]
  },
  {
   "cell_type": "code",
   "execution_count": null,
   "id": "f35683d40286eac3",
   "metadata": {
    "collapsed": false
   },
   "outputs": [],
   "source": [
    "# get distinct _id values\n",
    "_dq_ids = df_dq_issues['_id'].unique()\n",
    "_dq_row_count = len(_dq_ids)\n",
    "\n",
    "# https://stackoverflow.com/questions/39880627/in-pandas-how-to-delete-rows-from-a-data-frame-based-on-another-data-frame\n",
    "# use a database style join ⭐️ \n",
    "df_temp = pd.merge(df, df_dq_issues, how='outer', indicator=True)\n",
    "df_temp.groupby(by='_merge', observed=False)['_merge'].count()\n",
    "\n",
    "# filter using a scalar ie where clause\n",
    "df_clean = df_temp.loc[df_temp['_merge'] == 'left_only'].copy()\n",
    "df_clean.drop(columns=['_dq_reason', '_merge'], inplace=True)\n",
    "# df_extract.columns.to_list()"
   ]
  },
  {
   "cell_type": "markdown",
   "id": "839a29042158d94a",
   "metadata": {
    "collapsed": false
   },
   "source": [
    "### CHECKPOINT 2"
   ]
  },
  {
   "cell_type": "code",
   "execution_count": null,
   "id": "fc47b110f57b8795",
   "metadata": {
    "collapsed": false
   },
   "outputs": [],
   "source": [
    "# assert counts match\n",
    "assert _df_row_count == _dq_row_count + df_clean.shape[0], 'Row count mismatch'"
   ]
  },
  {
   "cell_type": "code",
   "execution_count": null,
   "id": "53c537af69768f24",
   "metadata": {
    "collapsed": false
   },
   "outputs": [],
   "source": [
    "# log\n",
    "logger.info(f'Extract::Source row count: {_df_row_count}')\n",
    "logger.info(f'Extract::DQ row count: {_dq_row_count}')\n",
    "logger.info(f'Extract::Clean row count: {df_clean.shape[0]}')\n",
    "\n",
    "logger.info(f'EXTRACT COMPLETE at {pd.to_datetime(\"now\")}')\n"
   ]
  },
  {
   "cell_type": "markdown",
   "id": "789b074cb2b49bf9",
   "metadata": {
    "collapsed": false
   },
   "source": [
    "# TRANSFORM\n",
    "\n",
    "- add runtime metrics (system_id, run_datetime)\n",
    "- Normalise truth values `df_extract['yes_no'] = df_extract['yes_no'].apply(lambda x: True if x == 1 else False)`\n",
    "- derive new columns `df_extract.insert(0, '_avgdistanceperstep', df_extract['TotalDistance'] / df_extract['TotalSteps'])`\n",
    "- Conform dates to UTC where there's time element ❌"
   ]
  },
  {
   "cell_type": "code",
   "execution_count": null,
   "id": "f6df28cf0916a8fb",
   "metadata": {
    "collapsed": false
   },
   "outputs": [],
   "source": [
    "logger.info(f'TRANSFORM STARTED at {pd.to_datetime(\"now\")}')"
   ]
  },
  {
   "cell_type": "markdown",
   "id": "4e949092318b90c0",
   "metadata": {
    "collapsed": false
   },
   "source": [
    "## Cast Data Types\n",
    "\n",
    "- convert any columns to datetime. Once converted we can then perform date operations and do timeseries analysis"
   ]
  },
  {
   "cell_type": "code",
   "execution_count": null,
   "id": "6389da731e0cb835",
   "metadata": {
    "collapsed": false
   },
   "outputs": [],
   "source": [
    "# store the data types before transformation\n",
    "df_clean_dtypes_b4 = df_clean.dtypes\n",
    "\n",
    "# instead create some methods to do these 3 conversions\n",
    "# df_clean['Date'] = pd.to_datetime(df_clean['Date'])\n",
    "a = df_clean[pd.to_datetime(df_clean['Date'], errors='coerce').notnull()]\n",
    "a.shape\n",
    "# df_clean = df_clean.astype({'SedentaryMinutes': 'int64', 'TotalActiveMinutes': 'int64'}) \n",
    "\n",
    "# df_clean_dtypes_after = df_clean.dtypes"
   ]
  },
  {
   "cell_type": "markdown",
   "id": "46cee3d9627d8259",
   "metadata": {
    "collapsed": false
   },
   "source": [
    "### CHECKPOINT 3 - Data Types"
   ]
  },
  {
   "cell_type": "code",
   "execution_count": null,
   "id": "be4b43314b09b73",
   "metadata": {
    "collapsed": false
   },
   "outputs": [],
   "source": [
    "# loop through the columns and print the data types before and after\n",
    "for col in df_clean_dtypes_b4.index:\n",
    "    if df_clean_dtypes_b4[col] != df_clean_dtypes_after[col]:\n",
    "        logger.info(f'CAST::{col}::{df_clean_dtypes_b4[col]}::{df_clean_dtypes_after[col]}')\n"
   ]
  },
  {
   "cell_type": "markdown",
   "id": "f808ccb9de6dcd70",
   "metadata": {
    "collapsed": false
   },
   "source": [
    "## Add Runtime Metrics"
   ]
  },
  {
   "cell_type": "code",
   "execution_count": null,
   "id": "5107094528e54cca",
   "metadata": {
    "collapsed": false
   },
   "outputs": [],
   "source": [
    "# add runtime metrics\n",
    "_extract_datetime = pd.to_datetime('now')\n",
    "df_clean.insert(0, '_system_name', SYSTEM)\n",
    "df_clean.insert(1, '_extract_datetime', _extract_datetime)"
   ]
  },
  {
   "cell_type": "markdown",
   "id": "f320b3f7b346ef08",
   "metadata": {
    "collapsed": false
   },
   "source": [
    "## Normalise Truth Values"
   ]
  },
  {
   "cell_type": "code",
   "execution_count": null,
   "id": "356c7f3e0d5f0b70",
   "metadata": {
    "collapsed": false
   },
   "outputs": [],
   "source": [
    "# first check the distribution of truth values\n",
    "df_clean.groupby('yes_no')['yes_no'].count().sort_values(ascending=False).rename('count')"
   ]
  },
  {
   "cell_type": "code",
   "execution_count": null,
   "id": "81954081393c0e91",
   "metadata": {
    "collapsed": false
   },
   "outputs": [],
   "source": [
    "# normalise truth values\n",
    "df_clean['yes_no'] = df_clean['yes_no'].apply(lambda x: True if x == 1 else False)\n",
    "# check the distribution of truth values\n",
    "df_clean.groupby('yes_no')['yes_no'].count().sort_values(ascending=False).rename('count')"
   ]
  },
  {
   "cell_type": "markdown",
   "id": "2062cff7c854de06",
   "metadata": {
    "collapsed": false
   },
   "source": [
    "## Derive New Columns"
   ]
  },
  {
   "cell_type": "code",
   "execution_count": null,
   "id": "963c32481d7831f2",
   "metadata": {
    "collapsed": false
   },
   "outputs": [],
   "source": [
    "# derive average distance per steps and put next to where column is TotalDistance\n",
    "df_clean.insert(df_clean.columns.get_loc('TotalDistance') + 1, '_avgdistanceperstep',\n",
    "                df_clean['TotalDistance'] / df_clean['TotalSteps'])\n",
    "df_clean"
   ]
  },
  {
   "cell_type": "markdown",
   "id": "28453aae9aab1562",
   "metadata": {
    "collapsed": false
   },
   "source": [
    "## Dates"
   ]
  },
  {
   "cell_type": "markdown",
   "id": "c1439e3957a77535",
   "metadata": {
    "collapsed": false
   },
   "source": [
    "### Timeseries Analysis"
   ]
  },
  {
   "cell_type": "code",
   "execution_count": null,
   "id": "18d2e68962981e3b",
   "metadata": {
    "collapsed": false
   },
   "outputs": [],
   "source": [
    "# Date aggregates\n",
    "df_clean.aggregate(\n",
    "    {\n",
    "        'Date': ['max', 'min']\n",
    "    }\n",
    ")\n",
    "\n",
    "df_clean['Date'].max() - df_clean['Date'].min()  # pandas.Timedelta object\n",
    "# use the dt. accessor to derive date parts\n",
    "# https://pandas.pydata.org/docs/reference/api/pandas.Series.dt.date.html\n",
    "\n",
    "# df_clean['Date'].dt.year\n",
    "# df_clean['Date'].dt.month.unique()\n",
    "# df_clean['Date'].dt.day\n",
    "# df_clean['Date'].dt.weekday # (with Monday=0 and Sunday=6)\n",
    "# df_clean['Date'].dt.day_name()"
   ]
  },
  {
   "cell_type": "markdown",
   "id": "6b30f6453c25a11",
   "metadata": {
    "collapsed": false
   },
   "source": [
    "### Plotting\n",
    "\n",
    "- use a log scale because it helps to see the differences"
   ]
  },
  {
   "cell_type": "code",
   "execution_count": null,
   "id": "b2e84c68320500ff",
   "metadata": {
    "collapsed": false
   },
   "outputs": [],
   "source": [
    "# group by day and get the mean calories\n",
    "df_clean_groupby = df_clean.groupby(\n",
    "    (\n",
    "        df_clean['Date'].dt.day_name()\n",
    "    )\n",
    ")['Calories'].mean().sort_values(ascending=False).rename('mean_calories')\n",
    "\n",
    "# plot using a log scale because it helps to see the differences\n",
    "df_clean_groupby.plot(kind='bar', logy=True)"
   ]
  },
  {
   "cell_type": "markdown",
   "id": "ab3d94d1fbe20cf7",
   "metadata": {
    "collapsed": false
   },
   "source": [
    "### Set date as the index"
   ]
  },
  {
   "cell_type": "code",
   "execution_count": null,
   "id": "4a0865b7f47e1331",
   "metadata": {
    "collapsed": false
   },
   "outputs": [],
   "source": [
    "# set date as the index\n",
    "# https://pandas.pydata.org/docs/getting_started/intro_tutorials/09_timeseries.html#datetime-as-index\n",
    "# https://pandas.pydata.org/docs/user_guide/timeseries.html#timeseries-datetimeindex (\n",
    "# df_clean.set_index('Date', inplace=True)\n",
    "df_clean.index.day_name()\n",
    "\n",
    "#  get for where dayname is Saturday\n",
    "df_clean[df_clean.index.day_name() == 'Saturday']\n",
    "\n",
    "# get where date is 2016-04-30\n",
    "df_clean[df_clean.index == '2016-04-30']\n",
    "# df_clean.loc['2016-04-30']\n"
   ]
  },
  {
   "cell_type": "markdown",
   "id": "606448eda0e5cc06",
   "metadata": {
    "collapsed": false
   },
   "source": [
    "### Resample\n",
    "\n",
    "- akin to groupby but for dates ie rolling up to a higher level"
   ]
  },
  {
   "cell_type": "code",
   "execution_count": null,
   "id": "e3594cdc4158e182",
   "metadata": {
    "collapsed": false
   },
   "outputs": [],
   "source": [
    "# resample by month\n",
    "df_clean['Calories'].resample('ME').mean()\n",
    "\n",
    "# resample by dayname of the week\n",
    "df_clean['Calories'].resample('D').mean()"
   ]
  },
  {
   "cell_type": "code",
   "execution_count": null,
   "id": "bf9d8e0ccf567e6b",
   "metadata": {
    "collapsed": false
   },
   "outputs": [],
   "source": [
    "logger.info(f'TRANSFORM COMPLETE at {pd.to_datetime(\"now\")}')\n",
    "df_clean.shape"
   ]
  },
  {
   "cell_type": "markdown",
   "id": "a3f1e66d86978aa0",
   "metadata": {
    "collapsed": false
   },
   "source": [
    "# LOAD"
   ]
  },
  {
   "cell_type": "markdown",
   "id": "99f8d0cc4078729",
   "metadata": {
    "collapsed": false
   },
   "source": [
    "## Write to a local sqlite database"
   ]
  },
  {
   "cell_type": "code",
   "execution_count": null,
   "id": "6d5a9d2437afdc69",
   "metadata": {
    "collapsed": false
   },
   "outputs": [],
   "source": [
    "# write df to a local sqlite database\n",
    "from sqlalchemy import create_engine\n",
    "\n",
    "# create a connection to the database using output_data_dir\n",
    "db_path = os.path.join(output_data_dir, f'{SYSTEM}.db')\n",
    "engine = create_engine(f'sqlite:///{db_path}', echo=False)"
   ]
  },
  {
   "cell_type": "code",
   "execution_count": null,
   "id": "c1e13d94a8e4ea41",
   "metadata": {
    "collapsed": false
   },
   "outputs": [],
   "source": [
    "# write to the database and handle errors\n",
    "try:\n",
    "    df_clean.to_sql(input_file_name_without_ext, con=engine, if_exists='replace', index=False)\n",
    "except Exception as e:\n",
    "    logger.error(f'LOAD::Error::{e}')"
   ]
  },
  {
   "cell_type": "markdown",
   "id": "4e1cd98fc71f924c",
   "metadata": {
    "collapsed": false
   },
   "source": [
    "## Read from the database"
   ]
  },
  {
   "cell_type": "code",
   "execution_count": null,
   "id": "abcbfaa692bbcb0",
   "metadata": {
    "collapsed": false
   },
   "outputs": [],
   "source": [
    "# read from the database and handle errors\n",
    "df_db = pd.read_sql(input_file_name_without_ext, con=engine)\n",
    "df_db.head()"
   ]
  },
  {
   "cell_type": "markdown",
   "id": "d67917f3075a7901",
   "metadata": {
    "collapsed": false
   },
   "source": [
    "## CHECKPOINT 4"
   ]
  },
  {
   "cell_type": "code",
   "execution_count": null,
   "id": "f1a1352ab5b37f4b",
   "metadata": {
    "collapsed": false
   },
   "outputs": [],
   "source": [
    "import sqlite3\n",
    "\n",
    "query_string = f'SELECT COUNT(*) FROM {input_file_name_without_ext}'\n",
    "\n",
    "# Establish a connection to the SQLite database \n",
    "# use the with statement to handle the connection\n",
    "with sqlite3.connect(db_path) as connection:\n",
    "    cursor = connection.cursor()\n",
    "    cursor.execute(query_string)\n",
    "    _db_row_count = cursor.fetchone()[0]\n",
    "\n",
    "logger.info(f'LOAD::Row count in database: {_db_row_count}')\n",
    "logger.info(f'LOAD::Row count in df_clean: {df_clean.shape[0]}')\n",
    "\n",
    "assert df_clean.shape[0] == _db_row_count, 'Row count mismatch'"
   ]
  },
  {
   "cell_type": "code",
   "execution_count": null,
   "id": "d5812f11b6a87e22",
   "metadata": {
    "collapsed": false
   },
   "outputs": [],
   "source": [
    "logger.info(f'ETL LOAD COMPLETE at {pd.to_datetime(\"now\")}')"
   ]
  },
  {
   "cell_type": "markdown",
   "source": [
    "# Extras"
   ],
   "metadata": {
    "collapsed": false
   },
   "id": "8862be78f819b79e"
  },
  {
   "cell_type": "markdown",
   "source": [
    "## Other reads"
   ],
   "metadata": {
    "collapsed": false
   },
   "id": "9d705f4a89261df1"
  }
 ],
 "metadata": {
  "kernelspec": {
   "display_name": "Python 3 (ipykernel)",
   "language": "python",
   "name": "python3"
  },
  "language_info": {
   "codemirror_mode": {
    "name": "ipython",
    "version": 3
   },
   "file_extension": ".py",
   "mimetype": "text/x-python",
   "name": "python",
   "nbconvert_exporter": "python",
   "pygments_lexer": "ipython3",
   "version": "3.12.2"
  }
 },
 "nbformat": 4,
 "nbformat_minor": 5
}
